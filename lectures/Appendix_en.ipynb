{
 "cells": [
  {
   "cell_type": "markdown",
   "id": "decaa151-fc84-4362-b214-92f188ea2d0a",
   "metadata": {},
   "source": [
    "# Appendux"
   ]
  },
  {
   "cell_type": "markdown",
   "id": "bd67a958-ee25-4ff9-8abf-48f0828c63d4",
   "metadata": {},
   "source": [
    "## mutable and immutable types\n",
    "\n",
    "Every object in Python has an identity, a type, and a value:"
   ]
  },
  {
   "cell_type": "code",
   "execution_count": 4,
   "id": "ff2e04dc-3a4b-4b6a-8e61-255092db848f",
   "metadata": {},
   "outputs": [
    {
     "name": "stdout",
     "output_type": "stream",
     "text": [
      "id(obj)=2447028263168\n",
      "type(obj)=<class 'list'>\n",
      "obj=[1, 2, 3]\n"
     ]
    }
   ],
   "source": [
    "obj = [1, 2, 3]\n",
    "print(f'{id(obj)=}')\n",
    "print(f'{type(obj)=}')\n",
    "print(f'{obj=}')"
   ]
  },
  {
   "cell_type": "markdown",
   "id": "efd836a1-fbe4-49d4-94cf-edbafc253718",
   "metadata": {},
   "source": [
    "The object name is bound to the type, identifier and content. One object can have different names, the check is performed by the function. Objects with the same id are one object. Names are actually \"links\" and can rename new objects."
   ]
  },
  {
   "cell_type": "code",
   "execution_count": 7,
   "id": "76354aa9-b147-4d7a-8894-b5d37379f95e",
   "metadata": {},
   "outputs": [
    {
     "name": "stdout",
     "output_type": "stream",
     "text": [
      "id(a)=2446949351760\n",
      "id(a)=2446949351792\n",
      "id(b)=2446949351792\n",
      "id(c)=2446949351792\n",
      "True\n",
      "True\n"
     ]
    }
   ],
   "source": [
    "a = 4\n",
    "print(f'{id(a)=}')\n",
    "a = 5\n",
    "b = a\n",
    "c = a\n",
    "print(f'{id(a)=}')\n",
    "print(f'{id(b)=}')\n",
    "print(f'{id(c)=}')\n",
    "print(a is b)\n",
    "print(a is c)"
   ]
  },
  {
   "cell_type": "markdown",
   "id": "99dbb5a0-0b4e-4fee-ad1b-e0ff21bd42e3",
   "metadata": {},
   "source": [
    "When a function is called, each function parameter is associated with the corresponding object specified in the function signature.  \n",
    "When an immutable object is passed to a function, a local copy is created (i.e., \"pass by value\").   \n",
    "When a mutable object is passed to a function, a reference to the object itself is passed (so-called \"pass by reference\")."
   ]
  },
  {
   "cell_type": "markdown",
   "id": "ea3f2db7-38ae-4b95-aa2c-b58772e9f39a",
   "metadata": {},
   "source": [
    "The = operator links a variable and an object by reference.  \n",
    "When a variable is assigned to a new variable, both variables are linked to the object.  \n",
    "When a variable is assigned to a new object, it is linked to it, and the old object is destroyed (if there are no other references to it, the so-called \"garbage collector\" works)."
   ]
  },
  {
   "cell_type": "code",
   "execution_count": 1,
   "id": "0ce2263b-76b6-4725-94ea-f9cb0d7102d2",
   "metadata": {},
   "outputs": [
    {
     "name": "stdout",
     "output_type": "stream",
     "text": [
      "id(str)=140314655908912\n",
      "HI!\n",
      "id(s)=140314655906672\n"
     ]
    }
   ],
   "source": [
    "#  methods of immutable objects return new objects\n",
    "str = \"hi!\"\n",
    "print(f'{id(str)=}')\n",
    "s = str.upper() \n",
    "print(s)\n",
    "print(f'{id(s)=}')"
   ]
  },
  {
   "cell_type": "code",
   "execution_count": 50,
   "id": "6a44c80c-3221-4d6e-9339-fbccbe982e85",
   "metadata": {},
   "outputs": [
    {
     "name": "stdout",
     "output_type": "stream",
     "text": [
      "[2, 4]\n",
      "inside id(lst)=2446949351760\n",
      "inside id(my_list)=2447028374976\n",
      "inside id(my_list)=2446949351792\n",
      "inside id(lst)=2446949351760\n",
      "mutable is  None\n",
      "par is  [1, 2]\n",
      "a=[1, 2, 3] b=[1, 2, 3]\n",
      "id(a)=2447028358592\n",
      "id(b)=2447028358592\n",
      "a=[1, 2] b=[1, 2, 3]\n",
      "id(a)=2447028358720\n",
      "id(b)=2447028357760\n"
     ]
    }
   ],
   "source": [
    "# mutable type:\n",
    "par = [1, 2]\n",
    "print ('mutable is ', foo(par))\n",
    "print ('par is ', par)\n",
    "\n",
    "# mutable tyoe:\n",
    "a = [1, 2]\n",
    "b = a\n",
    "b.append(3)\n",
    "print(f'{a=}', f'{b=}')\n",
    "print(f'{id(a)=}')\n",
    "print(f'{id(b)=}')\n",
    "\n",
    "# copying of mutable type:\n",
    "a = [1, 2]\n",
    "b = a[:]\n",
    "b.append(3)\n",
    "print(f'{a=}', f'{b=}')\n",
    "print(f'{id(a)=}')\n",
    "print(f'{id(b)=}')"
   ]
  },
  {
   "cell_type": "markdown",
   "id": "7ad4348f-5773-472a-95fb-47cfd1fc2ecb",
   "metadata": {},
   "source": [
    "#### Shallow copy and deep copy \n",
    "\n",
    "https://python-school.ru/blog/python/shallow-deep-copy/\n",
    "\n",
    "\n",
    "Mutable objects can contain other mutable objects.   \n",
    "Shallow copying does not copy the contained mutable objects, but copies references to them.   \n",
    "Deep copying copies the entire contents."
   ]
  },
  {
   "cell_type": "markdown",
   "id": "f6bb09a5-0505-4885-8ba8-e416d7180578",
   "metadata": {},
   "source": [
    "When copying usually (shallow copy), a new list is created (the ids are different):"
   ]
  },
  {
   "cell_type": "code",
   "execution_count": 42,
   "id": "415be506-9b6c-47de-a8fe-8c39386bebf3",
   "metadata": {},
   "outputs": [
    {
     "data": {
      "text/plain": [
       "False"
      ]
     },
     "execution_count": 42,
     "metadata": {},
     "output_type": "execute_result"
    }
   ],
   "source": [
    "# shallow copy:\n",
    "lst_inner = [1, 2]\n",
    "lst_orig = [10, 20, lst_inner]\n",
    "lst_copy = lst_orig.copy()\n",
    "lst_copy is lst_orig"
   ]
  },
  {
   "cell_type": "markdown",
   "id": "14ec9a5d-da26-423f-b835-0ca5b6a109ae",
   "metadata": {},
   "source": [
    "But the nested list remains the same object:"
   ]
  },
  {
   "cell_type": "code",
   "execution_count": 43,
   "id": "8be99252-c9b2-4db5-a220-503844324d9f",
   "metadata": {},
   "outputs": [
    {
     "data": {
      "text/plain": [
       "True"
      ]
     },
     "execution_count": 43,
     "metadata": {},
     "output_type": "execute_result"
    }
   ],
   "source": [
    "lst_orig[2] is lst_copy[2]"
   ]
  },
  {
   "cell_type": "markdown",
   "id": "0267ed23-b439-4576-a7f7-45fd72f92d75",
   "metadata": {},
   "source": [
    "So changing this list in one object changes it in the second one:"
   ]
  },
  {
   "cell_type": "code",
   "execution_count": 44,
   "id": "7a430333-6623-4fbb-a71f-5c3c4cd06ac6",
   "metadata": {},
   "outputs": [
    {
     "name": "stdout",
     "output_type": "stream",
     "text": [
      "[10, 20, [1, 2, 3]]\n",
      "[10, 20, [1, 2, 3]]\n"
     ]
    }
   ],
   "source": [
    "lst_copy[2].append(3)\n",
    "print(lst_orig)\n",
    "print(lst_copy)"
   ]
  },
  {
   "cell_type": "markdown",
   "id": "c515a366-98e2-4b23-8732-9b89be13fff1",
   "metadata": {},
   "source": [
    "For deep copying, you need to copy all the contents element by element or with the built-in function:\n",
    "\n",
    "https://www.geeksforgeeks.org/copy-python-deep-copy-shallow-copy/"
   ]
  },
  {
   "cell_type": "code",
   "execution_count": 47,
   "id": "1cbb1428-c0ea-4553-9552-511eb97c1734",
   "metadata": {},
   "outputs": [
    {
     "data": {
      "text/plain": [
       "False"
      ]
     },
     "execution_count": 47,
     "metadata": {},
     "output_type": "execute_result"
    }
   ],
   "source": [
    "import copy\n",
    "lst_inner = [1, 2]\n",
    "lst_orig = [10, 20, lst_inner]\n",
    "lst_copy = copy.deepcopy(lst_orig)\n",
    "lst_copy is lst_orig"
   ]
  },
  {
   "cell_type": "code",
   "execution_count": 48,
   "id": "074b5748-cc19-48d0-a394-8b12051a483a",
   "metadata": {},
   "outputs": [
    {
     "data": {
      "text/plain": [
       "False"
      ]
     },
     "execution_count": 48,
     "metadata": {},
     "output_type": "execute_result"
    }
   ],
   "source": [
    "lst_orig[2] is lst_copy[2]"
   ]
  },
  {
   "cell_type": "code",
   "execution_count": 49,
   "id": "09a798a9-0ac1-41ee-b782-50806462d0e7",
   "metadata": {
    "collapsed": true,
    "jupyter": {
     "outputs_hidden": true
    },
    "scrolled": true
   },
   "outputs": [
    {
     "name": "stdout",
     "output_type": "stream",
     "text": [
      "[10, 20, [1, 2]]\n",
      "[10, 20, [1, 2, 3]]\n"
     ]
    }
   ],
   "source": [
    "lst_copy[2].append(3)\n",
    "print(lst_orig)\n",
    "print(lst_copy)"
   ]
  },
  {
   "cell_type": "markdown",
   "id": "9ed0f8bf-0c94-4274-b2cc-0c64d40b3716",
   "metadata": {},
   "source": [
    "## Библиотека math\n"
   ]
  },
  {
   "cell_type": "code",
   "execution_count": 7,
   "id": "e63d89b1-69dd-44cd-b640-8481638ffe21",
   "metadata": {},
   "outputs": [
    {
     "name": "stdout",
     "output_type": "stream",
     "text": [
      "1.4142135623730951\n"
     ]
    }
   ],
   "source": [
    "import math\n",
    "r = math.sqrt(2)\n",
    "print(r)"
   ]
  },
  {
   "cell_type": "markdown",
   "id": "851752b6-629f-41a0-8b49-b28bf1aa7cbc",
   "metadata": {},
   "source": [
    "    math.ceil(X) – round up to the nearest integer.\n",
    "    math.copysign(X, Y) - returns a number with the same absolute value as X and the same sign as Y.\n",
    "    math.fabs(X) - absolute value of X.\n",
    "    math.factorial(X) - factorial of X.\n",
    "    math.floor(X) - round down.\n",
    "    math.fmod(X, Y) - remainder of X divided by Y.\n",
    "    math.frexp(X) - returns the mantissa and exponent of a number.\n",
    "    math.ldexp(X, I) - X * 2i. The inverse of math.frexp().\n",
    "    math.fsum(sequence) - the sum of all terms in a sequence. Equivalent to the built-in sum() function, but math.fsum() is more accurate for floating-point numbers.\n",
    "    math.isfinite(X) - checks if X is a number.\n",
    "    math.isinf(X) - checks if X is infinity.\n",
    "    math.isnan(X) - checks if X is NaN (Not a Number).\n",
    "    math.modf(X) - returns the fractional and integer parts of X. Both numbers have the same sign as X.\n",
    "    math.trunc(X) - truncates X to an integer.\n",
    "    math.exp(X) - e to the power of X.\n",
    "    math.expm1(X) - eX - 1. More accurate than math.exp(X)-1 for X → 0.\n",
    "    math.log(X, [base]) - logarithm of X to the base base. If base is not specified, the natural logarithm is calculated.\n",
    "    math.log1p(X) - natural logarithm (1 + X). More accurate than math.log(1+X) for X → 0.\n",
    "    math.log10(X) - logarithm of X to base 10.\n",
    "    math.log2(X) - logarithm of X to base 2.\n",
    "    math.pow(X, Y) - XY.\n",
    "    math.sqrt(X) - square root of X.\n",
    "    math.acos(X) - arccosine of X. In radians.\n",
    "    math.asin(X) - arcsine of X. In radians.\n",
    "    math.atan(X) - arctangent of X. In radians.\n",
    "    math.atan2(Y, X) - arctangent of Y/X. In radians. Taking into account the quadrant in which the point (X, Y) is located.\n",
    "    math.cos(X) - cosine of X (X is specified in radians).\n",
    "    math.sin(X) - sine of X (X is specified in radians).\n",
    "    math.tan(X) - tangent of X (X is specified in radians).\n",
    "    math.hypot(X, Y) - calculates the hypotenuse of a triangle with legs X and Y (math.sqrt(x * x + y * y)).\n",
    "    math.degrees(X) - converts radians to degrees.\n",
    "    math.radians(X) - converts degrees to radians.\n",
    "    math.cosh(X) - calculates the hyperbolic cosine.\n",
    "    math.sinh(X) - calculates the hyperbolic sine.\n",
    "    math.tanh(X) - calculates the hyperbolic tangent.\n",
    "    math.acosh(X) - calculates the inverse hyperbolic cosine.\n",
    "    math.asinh(X) - calculates the inverse hyperbolic sine.\n",
    "    math.atanh(X) - calculates the inverse hyperbolic tangent.\n",
    "    math.erf(X) - error function.\n",
    "    math.erfc(X) - complementary error function (1 - math.erf(X)).\n",
    "    math.gamma(X) - gamma function of X.\n",
    "    math.lgamma(X) - natural logarithm of gamma function of X.\n",
    "    math.pi - pi = 3.1415926...\n",
    "    math.e - e = 2.718281..."
   ]
  },
  {
   "cell_type": "code",
   "execution_count": 8,
   "id": "4c6a89f8-a10b-4307-8816-2008fb71f87f",
   "metadata": {},
   "outputs": [
    {
     "name": "stdout",
     "output_type": "stream",
     "text": [
      "(0.7084375, 6)\n"
     ]
    }
   ],
   "source": [
    "# mantissa and exponent of power 2\n",
    "print(math.frexp(45.34))"
   ]
  },
  {
   "cell_type": "markdown",
   "id": "dc6846ce-186b-43da-837f-57eb56a5e5e1",
   "metadata": {},
   "source": [
    "The same as\n",
    "```python\n",
    "0.7084375 * 2 ** 6 = 45.34\n",
    "```"
   ]
  },
  {
   "cell_type": "markdown",
   "id": "bc9803d7-0861-48f8-bc06-f5860b2e0689",
   "metadata": {},
   "source": [
    "## Type annotation\n",
    "\n",
    "Type annotation - makes it easier to understand, but is not checked (so errors are possible):"
   ]
  },
  {
   "cell_type": "code",
   "execution_count": 9,
   "id": "db7a850b-71c5-4560-a394-66b1311378d8",
   "metadata": {},
   "outputs": [
    {
     "name": "stdout",
     "output_type": "stream",
     "text": [
      "{'gfd', 'asd', 'ert'}\n"
     ]
    }
   ],
   "source": [
    "def prod(a, b): \n",
    "\treturn a * b\n",
    "\n",
    "def prod(a: int, b: int) -> int: \n",
    "\treturn a * b\n",
    "\n",
    "integ: int = 5\n",
    "flt: float = 5.123\n",
    "lst: list = ['asd', 'gfd', 'ert']\n",
    "st: set = {'asd', 'gfd', 'ert'}\n",
    "print(st)"
   ]
  },
  {
   "cell_type": "markdown",
   "id": "c9649cfd-ab53-49f8-aaab-26defd85ad92",
   "metadata": {},
   "source": [
    "take examples of TA for base types from https://www.youtube.com/watch?v=kGcUtckifXc or from https://www.youtube.com/watch?v=6ViGc5NgdSw\n",
    "\n",
    "It is possible to run *.py scripts with static checking, for example with the __mypy__ program https://mypy-lang.org"
   ]
  },
  {
   "cell_type": "markdown",
   "id": "48c117c4-47cd-4a0f-9382-afeefcd2445d",
   "metadata": {},
   "source": [
    "### How To Write Better Functions In Python\n",
    "\n",
    "https://www.youtube.com/watch?v=mSoEjBpJUJ0\n",
    "\n",
    "* Short and concise\n",
    "* Specify a return type\n",
    "* Make as simple and reusable as possible\n",
    "* Document all your functions\n",
    "* Handle errors appropriately\n",
    "\n",
    "(+ DRY - Don't Repeat Yourself)"
   ]
  },
  {
   "cell_type": "code",
   "execution_count": 2,
   "id": "1a4e02cb-e256-4057-bead-89b998fca288",
   "metadata": {},
   "outputs": [],
   "source": [
    "import datetime\n",
    "\n",
    "def get_time() -> str:\n",
    "    '''\n",
    "    A function that gets the current time\n",
    "    and returns it as a string\n",
    "\n",
    "    :Example:\n",
    "    >>> get_time()\n",
    "    \"08:08:15\"\n",
    "\n",
    "    '''\n",
    "\n",
    "    now: datetime = datetime.datetime.now()\n",
    "    return(f'{now:%X}')"
   ]
  },
  {
   "cell_type": "code",
   "execution_count": 3,
   "id": "cc2d9c8c-0bed-4082-9009-080a2ae26de2",
   "metadata": {},
   "outputs": [
    {
     "name": "stdout",
     "output_type": "stream",
     "text": [
      "18:38:30\n"
     ]
    }
   ],
   "source": [
    "print(get_time())"
   ]
  },
  {
   "cell_type": "markdown",
   "id": "14bb8d9b-b11e-4a08-8f9e-4fb295a371f9",
   "metadata": {},
   "source": [
    "# Classes\n",
    "\n",
    "* The basis of object-oriented programming\n",
    "* Hiding variables from their common namespace.\n",
    "* Convenient for working with devices (initialization in the function \\_\\_init\\_\\_)\n",
    "\n",
    "https://docs.python.org/3/tutorial/classes.html"
   ]
  },
  {
   "cell_type": "code",
   "execution_count": 1,
   "id": "54665d88-5598-4786-b68a-97586f89a1be",
   "metadata": {},
   "outputs": [
    {
     "name": "stdout",
     "output_type": "stream",
     "text": [
      "Hello, my name is Nikhil\n"
     ]
    }
   ],
   "source": [
    "#  https://www.geeksforgeeks.org/python-classes-and-objects/\n",
    "# Sample class with init method\n",
    "class Person:\n",
    "\n",
    "    # init method or constructor\n",
    "    def __init__(self, name):\n",
    "        self.name = name\n",
    "\n",
    "    # Sample Method\n",
    "    def say_hi(self):\n",
    "        print('Hello, my name is', self.name)\n",
    "\n",
    "\n",
    "p = Person('Nikhil')\n",
    "p.say_hi()"
   ]
  },
  {
   "cell_type": "code",
   "execution_count": null,
   "id": "6015be87-a79b-4d0a-8fcb-ff90601284cd",
   "metadata": {},
   "outputs": [],
   "source": []
  },
  {
   "attachments": {},
   "cell_type": "markdown",
   "id": "df9896b9-70cd-4971-96d0-337fec64a03f",
   "metadata": {},
   "source": [
    "## Command line arguments\n",
    "\n",
    "\n",
    "sys.argv – a list of command line arguments passed to the Python script, where sys.argv[0] is the name of the script\n",
    "\n",
    "sys.exit([arg]) – exit Python. The exit function takes an optional argument, typically an integer, that gives the exit status\n",
    "\n",
    "(http://cs.mipt.ru/advanced_python/lessons/lab04.html)"
   ]
  },
  {
   "cell_type": "code",
   "execution_count": 10,
   "id": "42374825-6244-491d-a0d5-3fc5f303d99b",
   "metadata": {},
   "outputs": [
    {
     "name": "stdout",
     "output_type": "stream",
     "text": [
      "/home/pet/project/venv/lib/python3.11/site-packages/ipykernel_launcher.py\n",
      "-f\n",
      "/home/pet/.local/share/jupyter/runtime/kernel-c837cf1e-5015-4a87-a2de-ba3972c7a9c9.json\n"
     ]
    }
   ],
   "source": [
    "# params.py \n",
    "import sys\n",
    "for param in sys.argv:\n",
    "\tprint (param) "
   ]
  },
  {
   "attachments": {},
   "cell_type": "markdown",
   "id": "588d9b58-93ee-4090-812f-365e5178a7fc",
   "metadata": {},
   "source": [
    "Запуск строки \"python params.py param1 param2\" даст список:\n",
    "\n",
    "    params.py\n",
    "    param1\n",
    "    param2"
   ]
  },
  {
   "cell_type": "code",
   "execution_count": 4,
   "id": "5f8093fa-fd00-4162-9179-7a34b1a509c0",
   "metadata": {},
   "outputs": [
    {
     "name": "stdout",
     "output_type": "stream",
     "text": [
      "Total arguments passed: 3\n",
      "Name of Python script: C:\\Users\\Peter\\AppData\\Local\\Programs\\Python\\Python310\\lib\\site-packages\\ipykernel_launcher.py\n",
      "Arguments passed: -f C:\\Users\\Peter\\AppData\\Roaming\\jupyter\\runtime\\kernel-b5be7745-95b3-4bcf-9b88-dcdd98fa02c5.json "
     ]
    }
   ],
   "source": [
    "# params2.py \n",
    "# https://www.geeksforgeeks.org/command-line-arguments-in-python/\n",
    "import sys \n",
    "\n",
    "# total arguments \n",
    "n = len(sys.argv) \n",
    "print(\"Total arguments passed:\", n) \n",
    "\n",
    "# Arguments passed \n",
    "print(\"Name of Python script:\", sys.argv[0]) \n",
    "print(\"Arguments passed:\", end = \" \") \n",
    "for i in range(1, n): \n",
    "\tprint(sys.argv[i], end = \" \") "
   ]
  },
  {
   "cell_type": "markdown",
   "id": "73d3704d-f100-4c83-9b97-8e9f59324bc0",
   "metadata": {
    "jp-MarkdownHeadingCollapsed": true
   },
   "source": [
    "### Problem\n",
    "\n",
    "Try params.py and params2.py with parameters in command-line interface."
   ]
  },
  {
   "attachments": {},
   "cell_type": "markdown",
   "id": "19474ad4-cb7d-46ad-a2b2-0d9d49bff012",
   "metadata": {},
   "source": [
    "## Standard streams\n",
    "\n",
    "* sys.stdin – standard input steam (input() is an envelop).\n",
    "* sys.stdout – standard output steam (print() is an envelop).\n",
    "* sys.stderr – standard error steam (to the screen by default). "
   ]
  },
  {
   "cell_type": "code",
   "execution_count": 8,
   "id": "0a837626-1703-4d1c-ae4b-66c01be4177d",
   "metadata": {},
   "outputs": [
    {
     "name": "stdout",
     "output_type": "stream",
     "text": [
      "Error!\n"
     ]
    }
   ],
   "source": [
    "print('Error!')"
   ]
  },
  {
   "cell_type": "code",
   "execution_count": 6,
   "id": "5805e544-b646-4680-b4b2-1b85aadf64f1",
   "metadata": {},
   "outputs": [
    {
     "name": "stderr",
     "output_type": "stream",
     "text": [
      "Error!\n"
     ]
    }
   ],
   "source": [
    "print('Error!', file=sys.stderr)"
   ]
  },
  {
   "cell_type": "code",
   "execution_count": 7,
   "id": "e5bbac5d-0e76-4679-a1af-8fb0c0c6d9a5",
   "metadata": {},
   "outputs": [
    {
     "name": "stderr",
     "output_type": "stream",
     "text": [
      "Error!\n"
     ]
    },
    {
     "data": {
      "text/plain": [
       "7"
      ]
     },
     "execution_count": 7,
     "metadata": {},
     "output_type": "execute_result"
    }
   ],
   "source": [
    "sys.stderr.write(\"Error!\\n\")"
   ]
  },
  {
   "cell_type": "markdown",
   "id": "1ad14315-6916-4fff-b047-b9f29f1e13bf",
   "metadata": {},
   "source": [
    "### Problem\n",
    "\n",
    "What does the sys_stdin.py file do?"
   ]
  },
  {
   "cell_type": "code",
   "execution_count": 11,
   "id": "99bc5f4e-3f80-4120-865f-3769e32cf4ed",
   "metadata": {},
   "outputs": [],
   "source": [
    "# sys_stdin.py\n",
    "import sys\n",
    "for line in sys.stdin:\n",
    "\tprint(line.strip('\\n')) \n",
    "# Press Ctrl + Z to exit"
   ]
  },
  {
   "cell_type": "markdown",
   "id": "a9108fee-a65e-492c-bbd0-71a2d250987b",
   "metadata": {},
   "source": [
    "## Stream redirection\n",
    "\n",
    "    prog > file \twrite stdout into the file\n",
    "    prog >> file \tappend stdout to the file\n",
    "    prog 2> file \twrite stderr into the file\n",
    "    prog 2>> file \tappend stderr to the file\n",
    "    progA | progB \tpipe (send) stdout progA to stdin progB\n",
    "    prog < file \tread from file to stdin\n",
    "\n",
    "https://faculty.washington.edu/jht/GS559_2017/lectures/9B_StdIO_Python.pdf"
   ]
  },
  {
   "cell_type": "markdown",
   "id": "aff7f208-82bc-431a-a3f3-72450ac69182",
   "metadata": {},
   "source": [
    "Example of redirecting output to files\n",
    "(stdout to fileA and stderr to fileB):\n",
    "\n",
    ">python myprog.py > fileA 2> fileB"
   ]
  },
  {
   "cell_type": "markdown",
   "id": "63a4c10a-72a0-4b49-a22a-7c07defbb58e",
   "metadata": {},
   "source": [
    "Example with Python:\n",
    "\n",
    "Main script:\n",
    "```python\n",
    "#summ.py\n",
    "print(\"enter 2 numbers\")\n",
    "a = int(input())\n",
    "b = int(input())\n",
    "print(a + b)\n",
    "```\n",
    "Input data:\n",
    "```python\n",
    "#summ.py\n",
    "1\n",
    "2\n",
    "```\n",
    "\n",
    "How to run a script file from the command line so that it reads arguments from the cin.txt file:\n",
    "\n",
    ">cat cin.txt | python .\\summ.py\n",
    "\n",
    "How to run a script file from the command line so that it reads arguments from the cin.txt file and writes data into another file cout.txt:\n",
    "\n",
    ">cat cin.txt | python .\\summ.py > cout.txt\n",
    "\n",
    "PS cat - display file contents on screen."
   ]
  },
  {
   "cell_type": "markdown",
   "id": "6f409e53-13cd-48bf-ba68-3c870c645604",
   "metadata": {},
   "source": [
    "### Problem\n",
    "\n",
    "Redirect streams when writing or when calling a file using the example of the sys_stdin.py and params2.py files."
   ]
  },
  {
   "cell_type": "markdown",
   "id": "b8452063-2177-478a-a864-e91cacc98e91",
   "metadata": {},
   "source": [
    "### Run a script from another script:\n",
    "\n",
    "Executable file:\n",
    "```python\n",
    "# object.py\n",
    "print(\"I'm started\")\n",
    "```\n",
    "\n",
    "Option 1, `subprocess.run()`:\n",
    "\n",
    "```python\n",
    "import subprocess\n",
    "\n",
    "subprocess.run([\"python\", \"object.py\"])\n",
    "```\n",
    "\n",
    "\n",
    "Option 2:\n",
    "\n",
    "```python\n",
    "import os\n",
    "\n",
    "os.system(\"python object.py\")\n",
    "```"
   ]
  },
  {
   "cell_type": "code",
   "execution_count": 5,
   "id": "2b318726-35e1-4a36-9158-91ee246fcf17",
   "metadata": {},
   "outputs": [
    {
     "name": "stdout",
     "output_type": "stream",
     "text": [
      "I'm started\n"
     ]
    },
    {
     "data": {
      "text/plain": [
       "CompletedProcess(args=['python', 'object.py'], returncode=0)"
      ]
     },
     "execution_count": 5,
     "metadata": {},
     "output_type": "execute_result"
    }
   ],
   "source": [
    "import subprocess\n",
    "\n",
    "subprocess.run([\"python\", \"object.py\"])\n",
    "# subprocess.run([\"python3\", \"object.py\"])"
   ]
  },
  {
   "cell_type": "code",
   "execution_count": 8,
   "id": "bdf64ee8-c966-44b8-abd3-5e8c1148ef79",
   "metadata": {},
   "outputs": [
    {
     "name": "stdout",
     "output_type": "stream",
     "text": [
      "I'm started\n"
     ]
    },
    {
     "data": {
      "text/plain": [
       "0"
      ]
     },
     "execution_count": 8,
     "metadata": {},
     "output_type": "execute_result"
    }
   ],
   "source": [
    "import os\n",
    "\n",
    "os.system(\"python object.py\")\n",
    "# os.system(\"python3 object.py\")"
   ]
  }
 ],
 "metadata": {
  "kernelspec": {
   "display_name": "Python 3 (ipykernel)",
   "language": "python",
   "name": "python3"
  },
  "language_info": {
   "codemirror_mode": {
    "name": "ipython",
    "version": 3
   },
   "file_extension": ".py",
   "mimetype": "text/x-python",
   "name": "python",
   "nbconvert_exporter": "python",
   "pygments_lexer": "ipython3",
   "version": "3.11.2"
  }
 },
 "nbformat": 4,
 "nbformat_minor": 5
}
