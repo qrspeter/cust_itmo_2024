{
 "cells": [
  {
   "attachments": {},
   "cell_type": "markdown",
   "id": "224df2c4-5180-4ac4-8979-28aa5b4fa888",
   "metadata": {},
   "source": [
    "# File handling, csv files"
   ]
  },
  {
   "cell_type": "markdown",
   "id": "83bcfea7-fdab-4770-ab53-5334ae2ac5d8",
   "metadata": {},
   "source": [
    "To work with a file, you must first open it.  \n",
    "An open file must be closed"
   ]
  },
  {
   "cell_type": "code",
   "execution_count": 4,
   "id": "02c21443-954b-4b25-8d4a-d18e3ddf416c",
   "metadata": {},
   "outputs": [],
   "source": [
    "filename = '7_FileHandling_csv.ipynb'\n",
    "fin = open(filename, 'r', encoding='utf8')\n",
    "...\n",
    "fin.close()"
   ]
  },
  {
   "cell_type": "markdown",
   "id": "bbcb6e50-4501-45f5-9545-cfa182b087d4",
   "metadata": {},
   "source": [
    "Or use automatic closing \"with ... as  ... \":"
   ]
  },
  {
   "cell_type": "code",
   "execution_count": 11,
   "id": "1fbeb1fa-cecb-4c61-a7e5-3dd40b39ff8b",
   "metadata": {},
   "outputs": [],
   "source": [
    "with open(filename, 'r', encoding='utf8') as fin:\n",
    "    ... # do something\n",
    "# the file is already  closed"
   ]
  },
  {
   "cell_type": "markdown",
   "id": "eb516b74-5b9f-4bb6-bc1b-a68a1b2615d7",
   "metadata": {},
   "source": [
    "### File Opening Modes\n",
    "\n",
    "    'r' by default, for reading.\n",
    "    'w' for writing/overwriting, if the file does not exist, it will be created.\n",
    "    'a' for writing to the end of the file, if the file does not exist, it will be created.\n",
    "    'b' binary mode (allows you to open non-text files).\n",
    "    \n",
    "    'r+' open an existing file for reading and writing.\n",
    "    'w+' open or create a file for reading and writing, deleting the file contents.\n",
    "    'a+' open or create a file for reading and writing, appending to the end of the existing file."
   ]
  },
  {
   "cell_type": "markdown",
   "id": "da8df40c-3403-4475-b202-eab64fc8799a",
   "metadata": {},
   "source": [
    "#### Rewriting\n",
    "\n",
    "https://pythonnumericalmethods.berkeley.edu/notebooks/chapter11.01-TXT-Files.html"
   ]
  },
  {
   "cell_type": "code",
   "execution_count": 1,
   "id": "6d21f513-f0eb-4884-a2c0-a734c1605ea3",
   "metadata": {},
   "outputs": [
    {
     "data": {
      "text/plain": [
       "'\\nf = open(filename, \\'w\\')\\n\\nfor i in range(5):\\n    f.write(f\"This is line {i}\\n\")\\nf.close()\\n'"
      ]
     },
     "execution_count": 1,
     "metadata": {},
     "output_type": "execute_result"
    }
   ],
   "source": [
    "filename = 'test.txt'\n",
    "\n",
    "with open(filename, 'w', encoding='utf8') as f:\n",
    "    for i in range(5):\n",
    "        f.write(f\"This is line {i}\\n\")\n",
    "\n",
    "# or\n",
    "'''\n",
    "f = open(filename, 'w')\n",
    "\n",
    "for i in range(5):\n",
    "    f.write(f\"This is line {i}\\n\")\n",
    "f.close()\n",
    "'''"
   ]
  },
  {
   "cell_type": "markdown",
   "id": "316159df-1676-408b-9a3c-6e0ac49b6972",
   "metadata": {},
   "source": [
    "#### Appending"
   ]
  },
  {
   "cell_type": "code",
   "execution_count": 3,
   "id": "d4a3b748-519a-43cf-b8ea-4047caff5f9c",
   "metadata": {},
   "outputs": [],
   "source": [
    "f = open(filename, 'a')\n",
    "f.write(\"This is another line again\\n\")\n",
    "f.close()"
   ]
  },
  {
   "cell_type": "markdown",
   "id": "88064c06-1e34-4ba7-95d8-7d05bb6d77ac",
   "metadata": {},
   "source": [
    "#### Reading"
   ]
  },
  {
   "cell_type": "code",
   "execution_count": 4,
   "id": "dc4c5006-a828-4147-9dcf-621cbb09b135",
   "metadata": {},
   "outputs": [
    {
     "name": "stdout",
     "output_type": "stream",
     "text": [
      "['This is line 0\\n', 'This is line 1\\n', 'This is line 2\\n', 'This is line 3\\n', 'This is line 4\\n', 'This is another line\\n', 'This is another line again\\n']\n",
      "\n",
      "This is line 0\n",
      " This is line 1\n",
      " This is line 2\n",
      " This is line 3\n",
      " This is line 4\n",
      " This is another line\n",
      " This is another line again\n",
      "\n"
     ]
    }
   ],
   "source": [
    "f = open(filename, 'r')\n",
    "contents = f.readlines()\n",
    "f.close()\n",
    "print(contents)\n",
    "print()\n",
    "print(*contents)"
   ]
  },
  {
   "attachments": {
    "b0f98520-5acc-4084-bc16-ed122ee0270d.png": {
     "image/png": "[encoded data removed]"
    }
   },
   "cell_type": "markdown",
   "id": "05fb1c2d-dbac-4681-b438-326bb9e43898",
   "metadata": {},
   "source": [
    "СEnd-of-line characters are visible in a special text editor mode:\n",
    "\n",
    "![image.png](attachment:b0f98520-5acc-4084-bc16-ed122ee0270d.png)"
   ]
  },
  {
   "cell_type": "markdown",
   "id": "2e6a3581-34d3-435a-bc3b-a287a6a276b6",
   "metadata": {},
   "source": [
    "### Text file reading options\n",
    "\n",
    "* Reading into one single line (read(size) –> str)\n",
    "* Reading into an array of lines (readlines() –> [str0, str1, ...])\n",
    "* Reading by line (readline() –> str )\n",
    "* reading by iterating over lines (for line in fin)\n",
    "* reading files by list from a file (fileinput.input(files ='gfg.txt')).\n",
    "\n",
    "Useful methods:\n",
    "\n",
    "* strip() removes all service characters at the beginning and end of the line (\\n, \\t, \\r)\n",
    "* Slicing a line by the required characters – split(' ')"
   ]
  },
  {
   "cell_type": "code",
   "execution_count": 5,
   "id": "6ba70c8d-9ed7-4be6-9029-aab3faa4ee1f",
   "metadata": {},
   "outputs": [
    {
     "name": "stdout",
     "output_type": "stream",
     "text": [
      "This is line 0\n",
      "This is line 1\n",
      "This is line 2\n",
      "This is line 3\n",
      "This is line 4\n",
      "This is another line\n",
      "This is another line again\n",
      "\n",
      "['This', 'is', 'line', '0\\nThis', 'is', 'line', '1\\nThis', 'is', 'line', '2\\nThis', 'is', 'line', '3\\nThis', 'is', 'line', '4\\nThis', 'is', 'another', 'line\\nThis', 'is', 'another', 'line', 'again\\n']\n",
      "['This is line 0', 'This is line 1', 'This is line 2', 'This is line 3', 'This is line 4', 'This is another line', 'This is another line again', '']\n"
     ]
    }
   ],
   "source": [
    "filename = 'test.txt'\n",
    "with open(filename, 'r', encoding='utf8') as fin:\n",
    "    s = fin.read()\n",
    "    print(s)\n",
    "\n",
    "with open(filename, 'r', encoding='utf8') as fin:\n",
    "    s = fin.read().split(' ')\n",
    "    print(s)\n",
    "\n",
    "with open(filename, 'r', encoding='utf8') as fin:\n",
    "    s = fin.read().split('\\n')\n",
    "    print(s)"
   ]
  },
  {
   "cell_type": "code",
   "execution_count": 23,
   "id": "4eb98381-d845-4c6e-a3f9-1bb2784d44c0",
   "metadata": {},
   "outputs": [
    {
     "name": "stdout",
     "output_type": "stream",
     "text": [
      "['This is line 0\\n', 'This is line 1\\n', 'This is line 2\\n', 'This is line 3\\n', 'This is line 4\\n', 'This is another line\\n']\n"
     ]
    }
   ],
   "source": [
    "with open(filename, 'r', encoding='utf8') as fin:\n",
    "    s = fin.readlines()\n",
    "    print(s)"
   ]
  },
  {
   "cell_type": "code",
   "execution_count": 24,
   "id": "ecf602c4-e4ad-495a-af0f-51b2a2c5d753",
   "metadata": {},
   "outputs": [
    {
     "name": "stdout",
     "output_type": "stream",
     "text": [
      "This is line 0\n",
      "\n",
      "['This', 'is', 'line', '1']\n"
     ]
    }
   ],
   "source": [
    "with open(filename, 'r', encoding='utf8') as fin:\n",
    "    s = fin.readline()\n",
    "    print(s)\n",
    "    s = fin.readline().split() # –> [ ]\n",
    "    print(s)"
   ]
  },
  {
   "cell_type": "code",
   "execution_count": 26,
   "id": "8278ce4d-2415-4924-bc7d-57f06677a4ee",
   "metadata": {},
   "outputs": [
    {
     "name": "stdout",
     "output_type": "stream",
     "text": [
      "This is line 0\n",
      "This is line 1\n",
      "This is line 2\n",
      "This is line 3\n",
      "This is line 4\n",
      "This is another line\n"
     ]
    }
   ],
   "source": [
    "with open(filename, 'r', encoding='utf8') as fin:\n",
    "    for line in fin:\n",
    "    \tprint(line, end='')\n",
    "    \t#if len(line) == 0:\n",
    "    \t#\tbreak"
   ]
  },
  {
   "cell_type": "markdown",
   "id": "e16782c3-75cf-41fc-af58-a92c066f705b",
   "metadata": {},
   "source": [
    "## CSV (comma-separated values) files\n",
    "\n",
    "    # test.csv\n",
    "    1,2,3,4\n",
    "    5,6,7,8\n",
    "    8,7,5,4"
   ]
  },
  {
   "cell_type": "code",
   "execution_count": 6,
   "id": "7ccfde19-b155-48a9-bacd-a1bbd34d7d88",
   "metadata": {},
   "outputs": [
    {
     "name": "stdout",
     "output_type": "stream",
     "text": [
      "1,2,3,4\n",
      "5,6,7,8\n",
      "8,7,5,4\n",
      "8,7,5,4\n"
     ]
    }
   ],
   "source": [
    "filename = 'test.csv'\n",
    "string = '1,2,3,4\\n5,6,7,8\\n8,7,5,4\\n8,7,5,4'\n",
    "with open(filename, 'w', encoding='utf8') as fout:\n",
    "    fout.write(string)\n",
    "\n",
    "with open(filename, 'r', encoding='utf8') as fin:\n",
    "    s = fin.read()\n",
    "    print(s)"
   ]
  },
  {
   "cell_type": "markdown",
   "id": "16e7949c-acb2-41ca-adde-9e8ef1d9e6f4",
   "metadata": {},
   "source": [
    "### Problem\n",
    "\n",
    "Read and sum data from test.csv"
   ]
  },
  {
   "cell_type": "code",
   "execution_count": 8,
   "id": "489e62e7-0a02-42ef-a41f-67ee2f4c4c92",
   "metadata": {},
   "outputs": [
    {
     "name": "stdout",
     "output_type": "stream",
     "text": [
      "['1', '2', '3', '4\\n']\n",
      "[1, 2, 3, 4]\n",
      "['5', '6', '7', '8\\n']\n",
      "[5, 6, 7, 8]\n",
      "['8', '7', '5', '4\\n']\n",
      "[8, 7, 5, 4]\n",
      "['8', '7', '5', '4']\n",
      "[8, 7, 5, 4]\n",
      "[1, 2, 3, 4, 5, 6, 7, 8, 8, 7, 5, 4, 8, 7, 5, 4]\n",
      "84\n"
     ]
    }
   ],
   "source": [
    "fin = open('test.csv', 'r') # , encoding='utf-8-sig'\n",
    "vals = []\n",
    "for line in fin:\n",
    "    now = line.split(',')\n",
    "    print(now)\n",
    "    print(list(map(int, now)))\n",
    "    vals.extend(list(map(int, now)))\n",
    "    \n",
    "    #vals.extend(list(map(int, now)))\n",
    "\n",
    "print(vals)\n",
    "print(sum(vals))\n",
    "fin.close()"
   ]
  },
  {
   "attachments": {},
   "cell_type": "markdown",
   "id": "a11555e3-d0b4-439c-8ebe-067d7419cc78",
   "metadata": {},
   "source": [
    "#### Problem: \n",
    "\n",
    "* Replace map() with a list comprehension.\n",
    "* Count and sum data using map() and accumulate()/reduce()\n",
    "\n",
    "PS \"The reduce() function of the functools module cumulatively applies the function function to the elements of an iterable sequence, reducing it to a single value.\" https://docs-python.ru/standart-library/modul-functools-python/funktsija-reduce-modulja-functools/, https://www.geeksforgeeks.org/reduce-in-python/, https://www.geeksforgeeks.org/python-itertools-accumulate/"
   ]
  },
  {
   "cell_type": "markdown",
   "id": "a382d5f8-f8a0-4b52-b926-8a048580403c",
   "metadata": {},
   "source": [
    "## csv module, read/write by lines\n",
    "\n",
    "https://docs.python.org/3/library/csv.html"
   ]
  },
  {
   "cell_type": "code",
   "execution_count": 33,
   "id": "9989d290-4fc9-4da9-97db-be817d0460e1",
   "metadata": {},
   "outputs": [
    {
     "name": "stdout",
     "output_type": "stream",
     "text": [
      "Spam, Spam, Spam, Spam, Spam, Baked Beans\n",
      "\n",
      "Spam, Lovely Spam, Wonderful Spam\n",
      "\n"
     ]
    }
   ],
   "source": [
    "import csv\n",
    "with open('eggs.csv', 'w') as csvfile:\n",
    "    spamwriter = csv.writer(csvfile, delimiter=' ') # , newline='', quotechar='|'\n",
    "    spamwriter.writerow(['Spam'] * 5 + ['Baked Beans'])\n",
    "    spamwriter.writerow(['Spam', 'Lovely Spam', 'Wonderful Spam'])\n",
    "\t\n",
    "with open('eggs.csv') as csvfile:\n",
    "    spamreader = csv.reader(csvfile, delimiter=' ') # , newline='', quotechar='|'\n",
    "    for row in spamreader:\n",
    "        print(', '.join(row))"
   ]
  },
  {
   "cell_type": "markdown",
   "id": "de0057f8-d069-423e-9fa5-15539270afc8",
   "metadata": {},
   "source": [
    "### Problem:\n",
    "\n",
    "rewrite reading file 'test.csv' using csv and row"
   ]
  },
  {
   "cell_type": "markdown",
   "id": "9a7d8e84-7dc7-4871-bb50-abb013df5b61",
   "metadata": {},
   "source": [
    "### Problem:\n",
    "\n",
    "Check the code at tht link  https://realpython.com/lessons/reading-csvs-pythons-csv-module/\n",
    "\n",
    "PS Documentation of the csv module: https://docs.python.org/3/library/csv.html"
   ]
  },
  {
   "cell_type": "markdown",
   "id": "8d79bb26-a5fb-47b6-8e60-3ca4f66d39f6",
   "metadata": {},
   "source": [
    "    #Employee_birthday.csv\n",
    "    name,department,birthday month\n",
    "    John Smith,Accounting,November\n",
    "    Erica Meyers,IT,March\n",
    "\n",
    "**Using csv.Reader():**\n",
    "```python\n",
    "import csv\n",
    "\n",
    "with open('employee_birthday.csv') as csv_file:\n",
    "    csv_reader = csv.Reader(csv_file, delimiter=',')\n",
    "    line_count = 0\n",
    "    for row in csv_reader:\n",
    "        print(f'\\t{row[0]} works in the {row[1]} department, and was born in {row[2]}')\n",
    "```\n",
    "\n",
    "**Using csv.DictReader():**\n",
    "```python\n",
    "import csv\n",
    "\n",
    "with open('employee_birthday.csv') as csv_file:\n",
    "    csv_reader = csv.DictReader(csv_file, delimiter=',')\n",
    "    line_count = 0\n",
    "    for row in csv_reader:\n",
    "        print(f'\\t{row[\"name\"]} works in the {row[\"department\"]} department, and was born in {row[\"month\"]}')\n",
    "```"
   ]
  },
  {
   "cell_type": "markdown",
   "id": "3c1f69f6-837e-4782-88c9-fe3bb5e3facb",
   "metadata": {},
   "source": [
    "### Additional link about parsing csv\n",
    "(also a bit outdated sintaxis)\n",
    "\n",
    "Python Tutorial: Real World Example - Parsing Names From a CSV to an HTML List – YouTube\n",
    "https://www.youtube.com/watch?v=GaLHLGdFuz8\n",
    "\n",
    "https://github.com/CoreyMSchafer/code_snippets/tree/master/Python-Patreon-CSV \n"
   ]
  },
  {
   "cell_type": "markdown",
   "id": "4f5552bd-7955-400f-9617-d6267508737c",
   "metadata": {},
   "source": [
    "## Reading and writing NumPy arrays\n",
    "\n",
    "https://note.nkmk.me/en/python-numpy-loadtxt-genfromtxt-savetxt/"
   ]
  },
  {
   "cell_type": "markdown",
   "id": "37ef0d4a-1f05-4e13-b450-c9ba990e864b",
   "metadata": {},
   "source": [
    "#### Writing - numpy.savetxt()\n",
    "\n",
    "```python\n",
    "numpy.savetxt(fname, X, fmt='%.18e', delimiter=' ', newline='\\n', header='', footer='', comments='# ', encoding=None)\n",
    "```\n",
    "\n",
    "https://numpy.org/doc/2.0/reference/generated/numpy.savetxt.html"
   ]
  },
  {
   "cell_type": "code",
   "execution_count": null,
   "id": "7561f17a-4b37-4b9f-8f97-82edf846a67c",
   "metadata": {},
   "outputs": [],
   "source": []
  },
  {
   "cell_type": "code",
   "execution_count": 24,
   "id": "fdc0b28f-12f6-43e1-8b2e-36a4f74b83b0",
   "metadata": {},
   "outputs": [
    {
     "name": "stdout",
     "output_type": "stream",
     "text": [
      "[[[1.2  2.2  3.  ]\n",
      "  [4.14 5.65 6.42]]\n",
      "\n",
      " [[1.2  2.2  3.  ]\n",
      "  [4.14 5.65 6.42]]]\n",
      "\n",
      "\n"
     ]
    },
    {
     "ename": "ValueError",
     "evalue": "Expected 1D or 2D array, got 3D array instead",
     "output_type": "error",
     "traceback": [
      "\u001b[1;31m---------------------------------------------------------------------------\u001b[0m",
      "\u001b[1;31mValueError\u001b[0m                                Traceback (most recent call last)",
      "Cell \u001b[1;32mIn[24], line 6\u001b[0m\n\u001b[0;32m      4\u001b[0m \u001b[38;5;28mprint\u001b[39m(arr)\n\u001b[0;32m      5\u001b[0m \u001b[38;5;28mprint\u001b[39m(\u001b[38;5;124m'\u001b[39m\u001b[38;5;130;01m\\n\u001b[39;00m\u001b[38;5;124m'\u001b[39m)\n\u001b[1;32m----> 6\u001b[0m \u001b[43mnp\u001b[49m\u001b[38;5;241;43m.\u001b[39;49m\u001b[43msavetxt\u001b[49m\u001b[43m(\u001b[49m\u001b[43mfilename\u001b[49m\u001b[43m,\u001b[49m\u001b[43m \u001b[49m\u001b[43marr\u001b[49m\u001b[43m,\u001b[49m\u001b[43m \u001b[49m\u001b[43mfmt\u001b[49m\u001b[38;5;241;43m=\u001b[39;49m\u001b[38;5;124;43m'\u001b[39;49m\u001b[38;5;132;43;01m%.2f\u001b[39;49;00m\u001b[38;5;124;43m'\u001b[39;49m\u001b[43m,\u001b[49m\u001b[43m \u001b[49m\u001b[43mheader\u001b[49m\u001b[43m \u001b[49m\u001b[38;5;241;43m=\u001b[39;49m\u001b[43m \u001b[49m\u001b[38;5;124;43m'\u001b[39;49m\u001b[38;5;124;43mCol1 Col2 Col3\u001b[39;49m\u001b[38;5;124;43m'\u001b[39;49m\u001b[43m)\u001b[49m\n\u001b[0;32m      7\u001b[0m my_arr \u001b[38;5;241m=\u001b[39m np\u001b[38;5;241m.\u001b[39mloadtxt(filename)\n\u001b[0;32m      8\u001b[0m \u001b[38;5;28mprint\u001b[39m(my_arr)\n",
      "File \u001b[1;32m~\\AppData\\Local\\Programs\\Python\\Python312\\Lib\\site-packages\\numpy\\lib\\_npyio_impl.py:1577\u001b[0m, in \u001b[0;36msavetxt\u001b[1;34m(fname, X, fmt, delimiter, newline, header, footer, comments, encoding)\u001b[0m\n\u001b[0;32m   1575\u001b[0m \u001b[38;5;66;03m# Handle 1-dimensional arrays\u001b[39;00m\n\u001b[0;32m   1576\u001b[0m \u001b[38;5;28;01mif\u001b[39;00m X\u001b[38;5;241m.\u001b[39mndim \u001b[38;5;241m==\u001b[39m \u001b[38;5;241m0\u001b[39m \u001b[38;5;129;01mor\u001b[39;00m X\u001b[38;5;241m.\u001b[39mndim \u001b[38;5;241m>\u001b[39m \u001b[38;5;241m2\u001b[39m:\n\u001b[1;32m-> 1577\u001b[0m     \u001b[38;5;28;01mraise\u001b[39;00m \u001b[38;5;167;01mValueError\u001b[39;00m(\n\u001b[0;32m   1578\u001b[0m         \u001b[38;5;124m\"\u001b[39m\u001b[38;5;124mExpected 1D or 2D array, got \u001b[39m\u001b[38;5;132;01m%d\u001b[39;00m\u001b[38;5;124mD array instead\u001b[39m\u001b[38;5;124m\"\u001b[39m \u001b[38;5;241m%\u001b[39m X\u001b[38;5;241m.\u001b[39mndim)\n\u001b[0;32m   1579\u001b[0m \u001b[38;5;28;01melif\u001b[39;00m X\u001b[38;5;241m.\u001b[39mndim \u001b[38;5;241m==\u001b[39m \u001b[38;5;241m1\u001b[39m:\n\u001b[0;32m   1580\u001b[0m     \u001b[38;5;66;03m# Common case -- 1d array of numbers\u001b[39;00m\n\u001b[0;32m   1581\u001b[0m     \u001b[38;5;28;01mif\u001b[39;00m X\u001b[38;5;241m.\u001b[39mdtype\u001b[38;5;241m.\u001b[39mnames \u001b[38;5;129;01mis\u001b[39;00m \u001b[38;5;28;01mNone\u001b[39;00m:\n",
      "\u001b[1;31mValueError\u001b[0m: Expected 1D or 2D array, got 3D array instead"
     ]
    }
   ],
   "source": [
    "import numpy as np\n",
    "filename = 'np_arr.txt'\n",
    "arr = np.array([[[1.20, 2.20, 3.00], [4.14, 5.65, 6.42]],[[1.20, 2.20, 3.00], [4.14, 5.65, 6.42]]])\n",
    "print(arr)\n",
    "print('\\n')\n",
    "np.savetxt(filename, arr, fmt='%.2f', header = 'Col1 Col2 Col3')\n",
    "my_arr = np.loadtxt(filename)\n",
    "print(my_arr)"
   ]
  },
  {
   "cell_type": "markdown",
   "id": "3edc1ebc-e69a-4374-9e97-27b74db15fe4",
   "metadata": {},
   "source": [
    "#### Reading - numpy.loadtxt()\n",
    "\n",
    "```python\n",
    "numpy.loadtxt(fname, dtype=<class 'float'>, comments='#', delimiter=None, converters=None, skiprows=0, usecols=None, unpack=False, ndmin=0, encoding=None, max_rows=None, *, quotechar=None, like=None)\n",
    "```\n",
    "\n",
    "https://numpy.org/doc/2.0/reference/generated/numpy.loadtxt.html"
   ]
  },
  {
   "cell_type": "code",
   "execution_count": 13,
   "id": "f0f37c1e-5939-4ba4-b94a-bbd22a2476c4",
   "metadata": {},
   "outputs": [
    {
     "name": "stdout",
     "output_type": "stream",
     "text": [
      "[[0.99276837 0.09970337 0.65291394 0.95226272 0.99434027]\n",
      " [0.13338934 0.72379064 0.25877007 0.3743269  0.42250398]\n",
      " [0.50411671 0.20537145 0.50787403 0.49879651 0.92742316]\n",
      " [0.88365994 0.08527913 0.19580927 0.86838628 0.31470654]\n",
      " [0.23314567 0.63614144 0.05081468 0.7963366  0.37390265]\n",
      " [0.10094174 0.40904401 0.93025815 0.55121616 0.39943422]\n",
      " [0.01597122 0.7397467  0.28635882 0.66574033 0.53944361]\n",
      " [0.65702762 0.93828522 0.14934733 0.23023392 0.72859728]\n",
      " [0.26258106 0.46840516 0.35742714 0.02477606 0.35486521]\n",
      " [0.86862878 0.34016798 0.17082801 0.67774574 0.70035204]]\n",
      "\n",
      "\n",
      "[[0.99 0.1 ]\n",
      " [0.13 0.72]\n",
      " [0.5  0.21]\n",
      " [0.88 0.09]\n",
      " [0.23 0.64]]\n"
     ]
    }
   ],
   "source": [
    "import numpy as np\n",
    "filename = 'test_np.csv'\n",
    "data = np.random.random((10,5)) # 10 rows and 5 columns\n",
    "print(data)\n",
    "np.savetxt(filename, data, fmt = '%.2f', delimiter=',', header='c1, c2, c3, c4, c5') \n",
    "print('\\n')\n",
    "my_csv = np.loadtxt(filename, delimiter=',')\n",
    "print(my_csv[:5, :2])"
   ]
  },
  {
   "cell_type": "markdown",
   "id": "6aa464eb-7260-4975-9f05-a88bfdca391c",
   "metadata": {},
   "source": [
    "Skipping multiple lines at the beginning of a file - skiprows:\n",
    "\n",
    "```python\n",
    "np.loadtxt(fname, skiprows=N)\n",
    "```"
   ]
  },
  {
   "cell_type": "markdown",
   "id": "1c3c375b-6c00-420b-8e7c-159e4406e963",
   "metadata": {},
   "source": [
    "Import a specific number of rows:\n",
    "```python\n",
    "np.loadtxt(fname, max_rows=N)\n",
    "```"
   ]
  },
  {
   "cell_type": "markdown",
   "id": "d5e32655-9ed8-4b85-9b55-61f7b7a8366f",
   "metadata": {},
   "source": [
    "Import only specific columns from index list - usecols:\n",
    "\n",
    "    #data.csv\n",
    "    \"myfilename\",0.034353453,-1.234556,-3.45671234\n",
    "    ,1.43567896, -1.45322124, 9.543422\n",
    "\n",
    "```python\n",
    "\n",
    "import numpy as np\n",
    "\n",
    "a = np.loadtxt('/tmp/data.csv', usecols=(1,2,3), delimiter=',')\n",
    "print(a) \n",
    "```\n",
    "Output:\n",
    "\n",
    "    array([[ 0.03435345, -1.234556  , -3.        ],\n",
    "           [ 1.43567896, -1.45322124,  9.543422  ]])\n",
    "\n",
    "(https://stackoverflow.com/questions/20964790/ignoring-string-while-reading-into-an-array)"
   ]
  },
  {
   "cell_type": "markdown",
   "id": "035f6c20-f913-4472-b4b2-5af8e6bb426a",
   "metadata": {},
   "source": [
    "How can you read a previously opened and already closed file:\n",
    "\n",
    "```python\n",
    "import numpy as np\n",
    "\n",
    "with open('data.txt', 'r') as fp:\n",
    "    data = fp.read()\n",
    "\n",
    "np_array = np.array(data)\n",
    "```"
   ]
  },
  {
   "cell_type": "markdown",
   "id": "1767ba6b-2e63-40d1-b01b-3fc4fc5cead3",
   "metadata": {},
   "source": [
    "#### Reading -  numpy.genfromtxt()\n",
    "\n",
    "Allows you to open files with missing values, etc.\n",
    "\n",
    "```python\n",
    "numpy.genfromtxt(fname, dtype=<class 'float'>, comments='#', delimiter=None, skip_header=0, skip_footer=0, converters=None, missing_values=None, filling_values=None, usecols=None, names=None, excludelist=None, deletechars=\" !#$%&'()*+, -./:;<=>?@[\\\\]^{|}~\", replace_space='_', autostrip=False, case_sensitive=True, defaultfmt='f%i', unpack=None, usemask=False, loose=True, invalid_raise=True, max_rows=None, encoding=None, *, ndmin=0, like=None)\n",
    "```\n",
    "\n",
    "https://numpy.org/doc/stable/reference/generated/numpy.genfromtxt.html"
   ]
  },
  {
   "cell_type": "code",
   "execution_count": null,
   "id": "37e98848-00ac-4b36-8caf-669348719900",
   "metadata": {},
   "outputs": [],
   "source": []
  },
  {
   "cell_type": "markdown",
   "id": "a66f2470-385f-448d-9928-3cd22c66edf6",
   "metadata": {},
   "source": [
    "Using np.genfromtxt(), missing values are read as np.nan\n",
    "\n",
    "```python\n",
    "a = np.genfromtxt('data/src/sample_nan.csv', delimiter=',')\n",
    "print(a)\n",
    "# [[11. 12. nan 14.]\n",
    "#  [21. nan nan 24.]\n",
    "#  [31. 32. 33. 34.]]\n",
    "```\n",
    "\n",
    "```python\n",
    "a = np.genfromtxt('data/src/sample_nan.csv', delimiter=',',\n",
    "                  filling_values=0)\n",
    "print(a)\n",
    "# [[11. 12.  0. 14.]\n",
    "#  [21.  0.  0. 24.]\n",
    "#  [31. 32. 33. 34.]]\n",
    "```"
   ]
  },
  {
   "cell_type": "markdown",
   "id": "f03b2ffd-90fb-494b-880a-8d99087c1f1c",
   "metadata": {},
   "source": [
    "Selecting rows by condition - np.genfromtxt  can take an iterator which yields strings as its first argument:\n",
    "```python\n",
    "with open(filename, 'r') as f:\n",
    "    lines = (line for line in f if predicate(line))\n",
    "    arr = np.genfromtxt(lines)\n",
    "\n",
    "```\n",
    "\n",
    "(https://stackoverflow.com/questions/20301967/numpy-loadtxt-skipping-multiple-rows)"
   ]
  },
  {
   "cell_type": "markdown",
   "id": "a46e06ec-9faf-415c-a54b-8a0d3203edd4",
   "metadata": {},
   "source": [
    "Disadvantages:\n",
    "\n",
    "1. pandas is more convenient for reading and writing files that contain headers or have both numeric and string columns.\n",
    "2. No column names\n",
    "\n",
    "But column names can be imported into a tuple:\n",
    "\n",
    "For example, data.txt:\n",
    "\n",
    "    TIME FX FY FZ\n",
    "    0    10 5  6\n",
    "    1    2  4  7\n",
    "    2    5  2  6\n",
    "    ...\n",
    "```python\n",
    "myData = np.genfromtxt(\"data.txt\", names=True)\n",
    "print(myData.dtype.names)\n",
    "```\n",
    "Output:\n",
    "\n",
    "    ('TIME', 'FX', 'FY', 'FZ')\n",
    "\n",
    "Get the column names of a python numpy ndarray - Stack Overflow\n",
    "https://stackoverflow.com/questions/7561017/get-the-column-names-of-a-python-numpy-ndarray"
   ]
  },
  {
   "cell_type": "markdown",
   "id": "c6cab1c5-29c3-4fd5-b3c7-306f08b28c97",
   "metadata": {},
   "source": [
    "#### joining multiple NumPy arrays\n",
    "\n",
    "It is often useful to combine several arrays into one (for example, for writing to a file).\n",
    "\n",
    "numpy.stack joins arrays along a new axis.  \n",
    "numpy.concatenate join a sequence of arrays along an existing axis.\n",
    "\n",
    "```python\n",
    "numpy.stack(arrays, axis=0, out=None, *, dtype=None, casting='same_kind')\n",
    "```\n",
    "\n",
    "https://numpy.org/doc/stable/reference/generated/numpy.stack.html"
   ]
  },
  {
   "cell_type": "code",
   "execution_count": 15,
   "id": "ab418587-6648-48c3-8200-855c5e1e83ec",
   "metadata": {},
   "outputs": [
    {
     "name": "stdout",
     "output_type": "stream",
     "text": [
      "axis=0:\n",
      " [[1 2 3]\n",
      " [4 5 6]]\n",
      "axis=1:\n",
      " [[1 4]\n",
      " [2 5]\n",
      " [3 6]]\n",
      "axis=1:\n",
      " [[1 4]\n",
      " [2 5]\n",
      " [3 6]]\n"
     ]
    }
   ],
   "source": [
    "import numpy as np\n",
    "\n",
    "a = np.array([1, 2, 3])\n",
    "b = np.array([4, 5, 6])\n",
    "\n",
    "print('axis=0:\\n', np.stack((a, b)))\n",
    "print('axis=1:\\n', np.stack((a, b), axis=1))\n",
    "print('axis=1:\\n', np.stack((a, b)).T)"
   ]
  },
  {
   "cell_type": "code",
   "execution_count": 13,
   "id": "28708ef7-0d08-4091-832c-459048b8d52b",
   "metadata": {},
   "outputs": [
    {
     "name": "stdout",
     "output_type": "stream",
     "text": [
      "axis=0:\n",
      " [1 2 3 4 5 6]\n"
     ]
    }
   ],
   "source": [
    "import numpy as np\n",
    "\n",
    "a = np.array([1, 2, 3])\n",
    "b = np.array([4, 5, 6])\n",
    "\n",
    "print('axis=0:\\n', np.concatenate((a, b)))"
   ]
  },
  {
   "attachments": {},
   "cell_type": "markdown",
   "id": "345221d6-779e-42c7-a409-1ca79d33ac72",
   "metadata": {},
   "source": [
    "## Reading all files from a folder\n",
    "\n",
    "https://docs-python.ru/standart-library/modul-os-python/funktsija-listdir-modulja-os/ "
   ]
  },
  {
   "cell_type": "code",
   "execution_count": 21,
   "id": "cff8862c-9077-445c-82af-1cfd0419fd4a",
   "metadata": {},
   "outputs": [
    {
     "name": "stdout",
     "output_type": "stream",
     "text": [
      "5_VectorizedСalculations_en.html\n",
      "3_Structures_lists_tuples_dictionaries_sets_en.html\n",
      "9_Algorithms_complexity_en.html\n",
      "vertopal.com_problems_examples_en.pdf\n",
      "4_Functions_Higher-orderFunction_CallStack_en.html\n",
      "2_DataTypes_operators_ControlFlow_en.html\n",
      "10_Debugging-logging_en.html\n",
      "1_Introduction_Python_IPython_en.html\n",
      "6_Visualization_with_Matplotlib_LaTeX_en.html\n",
      "7_FileHandling_csv_en.html\n",
      "11_SimpleNeuralNetwork_en.html\n",
      "8_Approximation-interpolation_en.html\n",
      "12_GUI_API_en.html\n",
      "Appendix_en.html\n",
      "problems_examples_en.html\n",
      "vertopal.com_Appendix_en.pdf\n",
      "vertopal.com_12_GUI_API_en.pdf\n",
      "vertopal.com_11_SimpleNeuralNetwork_en.pdf\n",
      "vertopal.com_10_Debugging-logging_en.pdf\n",
      "vertopal.com_8_Approximation-interpolation_en.pdf\n",
      "vertopal.com_9_Algorithms_complexity_en.pdf\n",
      "vertopal.com_7_FileHandling_csv_en.pdf\n",
      "vertopal.com_6_Visualization withMatplotlib_LaTeX_en.pdf\n",
      "vertopal.com_5_VectorizedСalculations_en.pdf\n",
      "vertopal.com_4_Functions_Higher-orderFunction_CallStack_en.pdf\n",
      "vertopal.com_3_Structures_lists_tuples_dictionaries_sets_en.pdf\n",
      "vertopal.com_2_DataTypes_operators_ControlFlow_en.pdf\n",
      "vertopal.com_1_Introduction_Python_IPython_en.pdf\n",
      "1_Introduction_Python_IPython_en.ipynb\n",
      "2_DataTypes_operators_ControlFlow_en.ipynb\n",
      "3_Structures_lists_tuples_dictionaries_sets_en.ipynb\n",
      "4_Functions_Higher-orderFunction_CallStack_en.ipynb\n",
      "5_VectorizedСalculations_en.ipynb\n",
      "6_Visualization_with_Matplotlib_LaTeX_en.ipynb\n",
      "7_FileHandling_csv_en.ipynb\n",
      "8_Approximation-interpolation_en.ipynb\n",
      "9_Algorithms_complexity_en.ipynb\n",
      "10_Debugging-logging_en.ipynb\n",
      "11_SimpleNeuralNetwork_en.ipynb\n",
      "12_GUI_API_en.ipynb\n",
      "Appendix_en.ipynb\n",
      "problems_examples_en.ipynb\n",
      "lectures_programming_2024.zip\n",
      "2_structures.py\n",
      "test.txt\n",
      "test.csv\n",
      "np_arr.txt\n",
      "test_np.csv\n"
     ]
    }
   ],
   "source": [
    "import os \n",
    "path = './' \n",
    "#filelist = [f for f in os.listdir(path)]\n",
    "filelist = [f for f in os.listdir(path) if os.path.isfile(path + f)]\n",
    "# filelist = os.listdir(path) # if you need a folders also\n",
    "\n",
    "\n",
    "for name in filelist: # \n",
    "\tprint(name) \n",
    "#\twith open(path + name, \"r\", encoding='UTF8') as f: \n",
    "\twith open(path + name, \"rb\") as f:  # binary because docx files have non-unicade symbols\n",
    "\t\ttext = f.readlines() \n"
   ]
  },
  {
   "cell_type": "markdown",
   "id": "d985ae8e-4173-4176-a548-e2c8c0eadbc7",
   "metadata": {},
   "source": [
    "File opening using a mask:"
   ]
  },
  {
   "cell_type": "code",
   "execution_count": 22,
   "id": "36597f73-2d80-427c-b66e-5b131f7af0e8",
   "metadata": {},
   "outputs": [
    {
     "name": "stdout",
     "output_type": "stream",
     "text": [
      "1_Introduction_Python_IPython_en.ipynb\n",
      "2_DataTypes_operators_ControlFlow_en.ipynb\n",
      "3_Structures_lists_tuples_dictionaries_sets_en.ipynb\n",
      "4_Functions_Higher-orderFunction_CallStack_en.ipynb\n",
      "5_VectorizedСalculations_en.ipynb\n",
      "6_Visualization_with_Matplotlib_LaTeX_en.ipynb\n",
      "7_FileHandling_csv_en.ipynb\n",
      "8_Approximation-interpolation_en.ipynb\n",
      "9_Algorithms_complexity_en.ipynb\n",
      "10_Debugging-logging_en.ipynb\n",
      "11_SimpleNeuralNetwork_en.ipynb\n",
      "12_GUI_API_en.ipynb\n",
      "Appendix_en.ipynb\n",
      "problems_examples_en.ipynb\n",
      "test.csv\n",
      "test_np.csv\n"
     ]
    }
   ],
   "source": [
    "import os \n",
    "path = './' \n",
    "extensions = ['csv','ipynb']\n",
    "\n",
    "filelist = [f for f in os.listdir(path) \n",
    "            if any(f.endswith(ext) for ext in extensions)]\n",
    "\n",
    "for name in filelist: # \n",
    "\tprint(name) \n",
    "#\twith open(path + name, \"r\", encoding='UTF8') as f: \n",
    "\twith open(path + name, \"rb\") as f:  # binary because docx files have non-unicade symbols\n",
    "\t\ttext = f.readlines() \n"
   ]
  },
  {
   "cell_type": "markdown",
   "id": "647cd5ad-8ea1-44ab-ba87-4353b8bab3fc",
   "metadata": {},
   "source": [
    "## Problems:\n",
    "\n",
    "1. Generate a data by some function, save to a file, open and print/plot (for example, Plank's law).\n",
    "2. Open different spectra from a folder.\n",
    "1. Open LED_royalBlue.csv, plot and normalize a spectrum. Save it in a *.csv file.\n",
    "2. Open LED280nm.csv, plot spectra, select suitable curves, normalize, calculate average and save it to a file.\n",
    "3. Do the same with LED370nm.csv.\n",
    "4. Open groups of files with similar names (a group of 4 files), plot, normalize and average data from them, save averaged to a file."
   ]
  }
 ],
 "metadata": {
  "kernelspec": {
   "display_name": "Python 3 (ipykernel)",
   "language": "python",
   "name": "python3"
  },
  "language_info": {
   "codemirror_mode": {
    "name": "ipython",
    "version": 3
   },
   "file_extension": ".py",
   "mimetype": "text/x-python",
   "name": "python",
   "nbconvert_exporter": "python",
   "pygments_lexer": "ipython3",
   "version": "3.12.8"
  }
 },
 "nbformat": 4,
 "nbformat_minor": 5
}
