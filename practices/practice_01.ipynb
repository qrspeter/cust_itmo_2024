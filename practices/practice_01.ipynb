{
 "cells": [
  {
   "cell_type": "markdown",
   "id": "69b4d63c-fea9-4a6c-ad88-1d450ca26ce1",
   "metadata": {},
   "source": [
    "# Practice 1\n",
    "\n",
    "## Base data types. Simple functions."
   ]
  },
  {
   "cell_type": "markdown",
   "id": "745c4a69-e26e-4ffc-9e7f-0474e1aff17d",
   "metadata": {},
   "source": [
    "### Problam 1. \"Bank deposit\"\n",
    "\n",
    "    P is the initial deposit,\n",
    "    r is the interest rate,\n",
    "    n is the number of years\n",
    "    \n",
    "    A is the final amount.\n",
    "\n",
    "Find the final amount."
   ]
  },
  {
   "cell_type": "code",
   "execution_count": 33,
   "id": "034217b5-17ef-483c-be33-1baf6b07ec1b",
   "metadata": {},
   "outputs": [
    {
     "name": "stdout",
     "output_type": "stream",
     "text": [
      "1.01\n"
     ]
    }
   ],
   "source": [
    "# deposit_output.py\n",
    "depose = 1\n",
    "rate = 1\n",
    "years = 1\n",
    "\n",
    "\n",
    "result = depose*(1 + rate*years/100)\n",
    "\n",
    "print(result)"
   ]
  },
  {
   "cell_type": "markdown",
   "id": "674985ea-7ac9-431d-a786-12218daabadd",
   "metadata": {},
   "source": [
    "Improved version:"
   ]
  },
  {
   "cell_type": "code",
   "execution_count": 32,
   "id": "6aafbdca-5087-4ad6-8157-430b01a465d2",
   "metadata": {},
   "outputs": [
    {
     "name": "stdin",
     "output_type": "stream",
     "text": [
      " 3\n"
     ]
    },
    {
     "name": "stdout",
     "output_type": "stream",
     "text": [
      "The total amount is 12.120000000000001 for 3 years.\n",
      "The total amount is 12.12 for 3 years.\n"
     ]
    }
   ],
   "source": [
    "# deposit_output_impruved.py\n",
    "def deposit_output(depose, rate=1, years=1):\n",
    "  return depose*(1 + rate*years/100)\n",
    "  \n",
    "assert deposit_output(1, 1, 1) == 1.01\n",
    "\n",
    "duration = int(input())\n",
    "\n",
    "\n",
    "result = deposit_output(i)\n",
    "#print(result)\n",
    "print(f\"The total amount is {result} for {duration} years.\")\n",
    "\n",
    "print(f\"The total amount is {result:.2f} for {duration} years.\")"
   ]
  },
  {
   "cell_type": "markdown",
   "id": "e09f2789-0c40-4f74-8cb2-a450b0ba471c",
   "metadata": {},
   "source": [
    "## Problam 1. \"Distribution of test grades\"\n",
    "\n",
    "Test grades: 11, 11, 11, 11, 11, 10, 10, 10, 10, 9, 9, 9, 9, 8, 8, 7, 7, 7, 7, 6, 6, 5, 4.\n",
    "\n",
    "Find average, distribution."
   ]
  },
  {
   "cell_type": "markdown",
   "id": "c4a54298-ee0e-4c6b-b36a-f09ed974e0ea",
   "metadata": {},
   "source": [
    "Just find an average:"
   ]
  },
  {
   "cell_type": "code",
   "execution_count": 11,
   "id": "79242b4c-679e-4304-b855-7733686f5532",
   "metadata": {},
   "outputs": [
    {
     "name": "stdout",
     "output_type": "stream",
     "text": [
      "8.521739130434783\n"
     ]
    }
   ],
   "source": [
    "results = [11, 11, 11, 11, 11, 10, 10, 10, 10, \n",
    "9, 9, 9, 9, 8, 8, 7, 7, 7, 7, 6, 6, 5, 4]\n",
    "\n",
    "\n",
    "average = sum(results)/len(results)\n",
    "print(average)"
   ]
  },
  {
   "cell_type": "markdown",
   "id": "91b0e371-2dc6-429d-afdc-efdaa3d19068",
   "metadata": {},
   "source": [
    "Now calculate the standard distribution:"
   ]
  },
  {
   "cell_type": "code",
   "execution_count": 30,
   "id": "9bbc9870-c863-48b5-99ac-f6c48b35401f",
   "metadata": {},
   "outputs": [
    {
     "name": "stdout",
     "output_type": "stream",
     "text": [
      "The average is 8.521739130434783, the deviation is 2.0402379489826203.\n"
     ]
    }
   ],
   "source": [
    "# standart_deviation.py\n",
    "def standart_deviation(lst):\n",
    "    average = sum(lst)/len(lst)\n",
    "    \n",
    "    accum = 0\n",
    "    for i in range(len(lst)):\n",
    "        accum = accum + (lst[i] - average)**2\n",
    "    return (accum/len(lst))**(0.5)\n",
    "\n",
    "results = [11, 11, 11, 11, 11, 10, 10, 10, 10, 9, 9, 9, 9, 8, 8, 7, 7, 7, 7, 6, 6, 5, 4]\n",
    "\n",
    "\n",
    "average = sum(results)/len(results)\n",
    "deviation = standart_deviation(results)\n",
    "print('The average is ', average, ', the deviation is ', deviation, '.', sep=\"\")"
   ]
  },
  {
   "cell_type": "markdown",
   "id": "f1b9c9de-ba05-4020-96ee-061380702933",
   "metadata": {},
   "source": [
    "Improved version:"
   ]
  },
  {
   "cell_type": "code",
   "execution_count": 29,
   "id": "1668ef84-72d3-415f-b18b-dd3ea59746b8",
   "metadata": {},
   "outputs": [
    {
     "name": "stdout",
     "output_type": "stream",
     "text": [
      "Tests done\n",
      "The average is 8.521739130434783, the deviation is 2.0402379489826203.\n",
      "The average is 8.521739130434783, the deviation is 2.0402379489826203.\n",
      "The average is 8.521739130434783, the deviation is 2.0402379489826203.\n",
      "Formatted output with different precision:\n",
      "The average is 8.5, the deviation is 2.0.\n",
      "The average is 8.52, the deviation is 2.04.\n"
     ]
    }
   ],
   "source": [
    "# standart_deviation_improved.py\n",
    "def standart_deviation(lst):\n",
    "    average = sum(lst)/len(lst)\n",
    "    \n",
    "    accum = 0\n",
    "    \n",
    "    for i in lst:\n",
    "        accum = accum + (i - average)**2\n",
    "    return (accum/len(lst))**(0.5)\n",
    "\n",
    "# The tests are based on results from an online statistic calculator\n",
    "# 1% error is OK\n",
    "test_lst = [0, 1, 2, 3, 4, 5]\n",
    "test_res = 1.7078251276599\n",
    "assert abs(standart_deviation(test_lst) - test_res)/test_res < 1e-2\n",
    "test_lst = [0, 1, 2, 3, 4]\n",
    "test_res = 1.4142135623731\n",
    "assert abs(standart_deviation(test_lst) - test_res)/test_res < 1e-2\n",
    "\n",
    "print('Tests done')\n",
    "\n",
    "results = [11, 11, 11, 11, 11, 10, 10, 10, 10, 9, 9, 9, 9, 8, 8, 7, 7, 7, 7, 6, 6, 5, 4]\n",
    "\n",
    "average = sum(results)/len(results)\n",
    "deviation = standart_deviation(results)\n",
    "\n",
    "# 3 ways to print the same:\n",
    "print('The average is ', average, ', the deviation is ', deviation, '.', sep=\"\")\n",
    "print('The average is ' + str(average) + ', the deviation is ' + str(deviation) + '.')\n",
    "print(f'The average is {average}, the deviation is {deviation}.')\n",
    "\n",
    "# or print variables with different precision:\n",
    "print('Formatted output with different precision:')\n",
    "print(f'The average is {average:.1f}, the deviation is {deviation:.1f}.')\n",
    "print(f'The average is {average:.2f}, the deviation is {deviation:.2f}.')"
   ]
  },
  {
   "cell_type": "markdown",
   "id": "03fd70b6-2bb8-4110-bbda-171ed167443a",
   "metadata": {},
   "source": [
    "Function abs():"
   ]
  },
  {
   "cell_type": "code",
   "execution_count": 19,
   "id": "0a9899cb-fc3b-4536-84a1-06bf0e09cd41",
   "metadata": {},
   "outputs": [
    {
     "name": "stdout",
     "output_type": "stream",
     "text": [
      "4.884981308350689e-15\n",
      "-4.884981308350689e-15\n",
      "-5\n",
      "5\n"
     ]
    }
   ],
   "source": [
    "print(abs(standart_deviation([0, 1, 2, 3, 4]) - 1.4142135623731))\n",
    "print((standart_deviation([0, 1, 2, 3, 4]) - 1.4142135623731))\n",
    "\n",
    "a = -5\n",
    "print(a)\n",
    "print(abs(a))"
   ]
  },
  {
   "cell_type": "markdown",
   "id": "2061ac07-2fb5-4da2-8137-b3fc636e48c3",
   "metadata": {},
   "source": [
    "### Additional data visualisation"
   ]
  },
  {
   "cell_type": "code",
   "execution_count": 28,
   "id": "8453f099-5920-45b9-b6b4-8fdeec595302",
   "metadata": {},
   "outputs": [
    {
     "data": {
      "image/png": "[encoded data removed]",
      "text/plain": [
       "<Figure size 640x480 with 1 Axes>"
      ]
     },
     "metadata": {},
     "output_type": "display_data"
    }
   ],
   "source": [
    "import matplotlib.pyplot as plt\n",
    "\n",
    "# Plotting a basic histogram\n",
    "plt.hist(results, bins=5, color='skyblue', edgecolor='black')\n",
    " \n",
    "plt.xlabel('Grades')\n",
    "plt.ylabel('Numbers')\n",
    "plt.title('Distribution of test grades')\n",
    " \n",
    "# Display the plot\n",
    "plt.show()"
   ]
  }
 ],
 "metadata": {
  "kernelspec": {
   "display_name": "Python 3 (ipykernel)",
   "language": "python",
   "name": "python3"
  },
  "language_info": {
   "codemirror_mode": {
    "name": "ipython",
    "version": 3
   },
   "file_extension": ".py",
   "mimetype": "text/x-python",
   "name": "python",
   "nbconvert_exporter": "python",
   "pygments_lexer": "ipython3",
   "version": "3.11.2"
  }
 },
 "nbformat": 4,
 "nbformat_minor": 5
}
