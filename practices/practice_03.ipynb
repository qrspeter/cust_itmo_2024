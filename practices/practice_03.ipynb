{
 "cells": [
  {
   "cell_type": "markdown",
   "id": "5efccb2e-e430-4acc-ad46-73aea4edd8fe",
   "metadata": {},
   "source": [
    "## Practice 3"
   ]
  },
  {
   "cell_type": "markdown",
   "id": "3242b795-1406-475c-bcee-1e9850f2a49f",
   "metadata": {},
   "source": [
    "### Input data check\n",
    "\n",
    "\n",
    "Try to complete the code below: \n",
    "\n",
    "    ask for the second value\n",
    "    check the input data  or arguments in function (what would you prefer?)\n",
    "    give the user a chance to enter correct data (at least one time).\n",
    "    make a test for the function"
   ]
  },
  {
   "cell_type": "markdown",
   "id": "7109b9fa-d95f-44ef-86b1-a3901f889249",
   "metadata": {},
   "source": [
    "a first way - check input:"
   ]
  },
  {
   "cell_type": "code",
   "execution_count": 15,
   "id": "86094df6-8ed6-43bd-ba22-b1e2f2779d64",
   "metadata": {},
   "outputs": [
    {
     "name": "stdin",
     "output_type": "stream",
     "text": [
      "Input a first digit 3\n"
     ]
    }
   ],
   "source": [
    "def our_sum(a: int, b: int) -> int:    \n",
    "    return a + b\n",
    "\n",
    "n = input(\"Input a first digit\")\n",
    "if n.isdigit():\n",
    "    n = int(n)\n",
    "else:\n",
    "    print('try again')"
   ]
  },
  {
   "cell_type": "markdown",
   "id": "6d6abb10-43bd-40c5-a632-04eb56e97700",
   "metadata": {},
   "source": [
    "Another way - check the arguments in functions:"
   ]
  },
  {
   "cell_type": "code",
   "execution_count": 14,
   "id": "c40046fa-62d8-49a8-b406-60c1ec9a8167",
   "metadata": {
    "scrolled": true
   },
   "outputs": [
    {
     "name": "stdout",
     "output_type": "stream",
     "text": [
      "9\n",
      "None\n"
     ]
    }
   ],
   "source": [
    "def our_sum(a: int, b: int) -> int:         \n",
    "    if type(a) == int:\n",
    "        return a + b\n",
    "\n",
    "print(our_sum(4, 5))\n",
    "print(our_sum(4.0, 5.0))"
   ]
  },
  {
   "cell_type": "markdown",
   "id": "40e13767-6ba9-4710-9857-da183f1a408a",
   "metadata": {},
   "source": [
    "### Problem\n",
    "\n",
    "convert yesterday's code (see below) to a function that take a file adress and return a dictionary.\n",
    "\n",
    "Add removing duplicates from data (take better test results only)\n",
    "\n",
    "Use a set, hash or a checking \"if something in lst\" to find the dublicates."
   ]
  },
  {
   "cell_type": "code",
   "execution_count": 7,
   "id": "2a7ab237-4267-49a4-9d48-1bba2848cd23",
   "metadata": {},
   "outputs": [
    {
     "name": "stdout",
     "output_type": "stream",
     "text": [
      "{'Li Yijia': [11], 'Zhang Hanyu': [11], 'Zhang Liuhaoyu': [11], 'Zhang Jiarui': [11], 'Liu Dingyu': [11], 'Tian Ye': [10], 'Cao Shuming': [10], 'Mengyang Ma': [10], 'Niu Junliang': [10], 'Sun Zihan': [9], 'Miao Jialong': [9], 'Duan Qiaohui': [9], 'Liu Xiangying': [9], 'Li Zhengtong': [8], 'Liu Chang': [8], 'Ni Junxi': [7], 'Jiang Junyu': [7], 'Wu Yue': [7], 'Feng Xuanang': [7], 'Zhao Yi': [6], 'Zhao Xiaonan': [6], 'Li Xiang': [5], 'Chen Zhonghan': [4]}\n"
     ]
    }
   ],
   "source": [
    "filename = './input_test.txt'\n",
    "# filename = './test1.txt'\n",
    "\n",
    "fin = open(filename, 'r')\n",
    "members = fin.readlines()\n",
    "fin.close()\n",
    "\n",
    "dict_31 = {}\n",
    "\n",
    "for m in members:\n",
    "    m = m.strip()\n",
    "    lst = m.split(sep='\\t')\n",
    "    name = lst[0] + \" \" + lst[1]\n",
    "    result = [int(lst[2])]\n",
    "\n",
    "    dict_31[name] = result\n",
    "\n",
    "print(dict_31)"
   ]
  },
  {
   "cell_type": "markdown",
   "id": "f72729c2-ce26-4d18-8a0d-a2b98aa48be9",
   "metadata": {},
   "source": [
    "## Problem \n",
    "\n",
    "Write a function to calculate Gauss function\n",
    "\n",
    "$f(x)=\\frac{1}{\\sqrt(2\\pi) s} exp \\left[-\\frac{1}{2}\\left( \\frac{x-m}{s} \\right)^2 \\right]$\n",
    "\n",
    "```python\n",
    "from math import sqrt, pi, exp\n",
    "m = 0\n",
    "s = 2\n",
    "x = 1.0\n",
    "```"
   ]
  },
  {
   "cell_type": "code",
   "execution_count": 9,
   "id": "99c6a71b-ea60-42ab-acdb-cea20c79952e",
   "metadata": {},
   "outputs": [
    {
     "name": "stdout",
     "output_type": "stream",
     "text": [
      "3.141592653589793\n",
      "0.00013383022576488537\n",
      "0.3989422804014327\n",
      "[-4, -3, -2, -1, 0, 1, 2, 3, 4, 5, 6]\n",
      "1.48672e-06\n",
      "1.33830e-04\n",
      "4.43185e-03\n",
      "5.39910e-02\n",
      "2.41971e-01\n",
      "3.98942e-01\n",
      "2.41971e-01\n",
      "5.39910e-02\n",
      "4.43185e-03\n",
      "1.33830e-04\n",
      "1.48672e-06\n",
      "[1.4867195147342977e-06, 0.00013383022576488537, 0.0044318484119380075, 0.05399096651318806, 0.24197072451914337, 0.3989422804014327, 0.24197072451914337, 0.05399096651318806, 0.0044318484119380075, 0.00013383022576488537, 1.4867195147342977e-06]\n"
     ]
    }
   ],
   "source": [
    "import math\n",
    "\n",
    "print(math.pi)\n",
    "\n",
    "def gauss(x, m=1, s=1):\n",
    "    first = 1/math.sqrt(2*math.pi)\n",
    "    second = -0.5*((x - m)/s)**2\n",
    "    result = first * math.exp(second)\n",
    "    \n",
    "    return result\n",
    "\n",
    "x = 5\n",
    "print(gauss(x))\n",
    "m = 5\n",
    "s = 3\n",
    "print(gauss(x, m, s))\n",
    "\n",
    "x_range = list(range(-4, 7))\n",
    "print(x_range)\n",
    "\n",
    "y_data = []\n",
    "for x in x_range:\n",
    "    y_data.append(gauss(x))\n",
    "    print(f'{y_data[-1]:.5e}')\n",
    "\n",
    "print(y_data)\n"
   ]
  },
  {
   "cell_type": "code",
   "execution_count": 10,
   "id": "c0c1e4a7-4f6c-4799-9f2a-2af6e8aaefe9",
   "metadata": {},
   "outputs": [
    {
     "data": {
      "image/png": "[encoded data removed]",
      "text/plain": [
       "<Figure size 640x480 with 1 Axes>"
      ]
     },
     "metadata": {},
     "output_type": "display_data"
    }
   ],
   "source": [
    "import matplotlib.pyplot as plt\n",
    "\n",
    "plt.plot(y_data)\n",
    "plt.show()"
   ]
  }
 ],
 "metadata": {
  "kernelspec": {
   "display_name": "Python 3 (ipykernel)",
   "language": "python",
   "name": "python3"
  },
  "language_info": {
   "codemirror_mode": {
    "name": "ipython",
    "version": 3
   },
   "file_extension": ".py",
   "mimetype": "text/x-python",
   "name": "python",
   "nbconvert_exporter": "python",
   "pygments_lexer": "ipython3",
   "version": "3.10.11"
  }
 },
 "nbformat": 4,
 "nbformat_minor": 5
}
