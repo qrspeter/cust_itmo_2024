{
 "cells": [
  {
   "cell_type": "markdown",
   "id": "5efccb2e-e430-4acc-ad46-73aea4edd8fe",
   "metadata": {},
   "source": [
    "## Practice 2"
   ]
  },
  {
   "cell_type": "markdown",
   "id": "40e13767-6ba9-4710-9857-da183f1a408a",
   "metadata": {},
   "source": [
    "### Problem\n",
    "\n",
    "How to keep the test results on a data structure?\n",
    "\n",
    "Which in the best?"
   ]
  },
  {
   "cell_type": "markdown",
   "id": "8fe4b904-3301-4209-8762-f67552d8fd58",
   "metadata": {},
   "source": [
    "Compare list and dictionary:"
   ]
  },
  {
   "cell_type": "code",
   "execution_count": 34,
   "id": "82fc402f-8d75-4775-9551-2e4f3c9766d6",
   "metadata": {},
   "outputs": [
    {
     "name": "stdout",
     "output_type": "stream",
     "text": [
      "Error!\n",
      "7\n"
     ]
    }
   ],
   "source": [
    "lst10 = ['name1', 'name2', 'result1', 'result2']\n",
    "\n",
    "if 'sdf' in lst10:\n",
    "    print('Success!')\n",
    "else:\n",
    "    print(\"Error!\")\n",
    "\n",
    "test_results = ['Peter', 10, 20, ' ']\n",
    "\n",
    "# Dict is better here:\n",
    "\n",
    "test_results = {'Peter': 10, \"Bob\": None}\n",
    "test_results[\"Bob\"] = 7\n",
    "print(test_results[\"Bob\"])"
   ]
  },
  {
   "cell_type": "markdown",
   "id": "b132a09a-98fa-434c-89ae-16b8996cde44",
   "metadata": {},
   "source": [
    "Let's create and fill the dictionary with test results from a text file"
   ]
  },
  {
   "cell_type": "markdown",
   "id": "6dfa3093-2f57-42a3-91d5-c44cb0bcece4",
   "metadata": {},
   "source": [
    "Different ways to write a file path:"
   ]
  },
  {
   "cell_type": "code",
   "execution_count": 6,
   "id": "927e0d8e-b12e-4337-a90a-81e24fc3d2b5",
   "metadata": {},
   "outputs": [],
   "source": [
    "# E:\\China\\practices\\input_test.txt\n",
    "filename = './input_test.txt'\n",
    "#filename = 'input_test.txt'\n",
    "#filename = 'E:/China/practices/input_test.txt'\n",
    "#filename = 'E:\\\\China\\\\practices\\\\input_test.txt'\n",
    "#filename = r'E:\\China\\practices\\input_test.txt'"
   ]
  },
  {
   "cell_type": "markdown",
   "id": "cd9f60c5-d51b-47fa-a956-d6ead29910fa",
   "metadata": {},
   "source": [
    "Opening the text file as a single line:"
   ]
  },
  {
   "cell_type": "code",
   "execution_count": 9,
   "id": "33110f21-9aac-489c-ae78-144cd0d62c7a",
   "metadata": {},
   "outputs": [
    {
     "name": "stdout",
     "output_type": "stream",
     "text": [
      "Text representation of the string: \n",
      " Li\tYijia\t11\n",
      "Zhang\tHanyu\t11\n",
      "Zhang\tLiuhaoyu\t11\n",
      "Zhang\tJiarui\t11\n",
      "Liu\tDingyu\t11\n",
      "Tian\tYe\t10\n",
      "Cao\tShuming\t10\n",
      "Mengyang\tMa\t10\n",
      "Niu\tJunliang\t10\n",
      "Sun\tZihan\t9\n",
      "Miao\tJialong\t9\n",
      "Duan\tQiaohui\t9\n",
      "Liu\tXiangying\t9\n",
      "Li\tZhengtong\t8\n",
      "Liu\tChang\t8\n",
      "Ni\tJunxi\t7\n",
      "Jiang\tJunyu\t7\n",
      "Wu\tYue\t7\n",
      "Feng\tXuanang\t7\n",
      "Zhao\tYi\t6\n",
      "Zhao\tXiaonan\t6\n",
      "Li\tXiang\t5\n",
      "Chen\tZhonghan\t4\n",
      "\n",
      "Raw representation of the string: \n",
      " 'Li\\tYijia\\t11\\nZhang\\tHanyu\\t11\\nZhang\\tLiuhaoyu\\t11\\nZhang\\tJiarui\\t11\\nLiu\\tDingyu\\t11\\nTian\\tYe\\t10\\nCao\\tShuming\\t10\\nMengyang\\tMa\\t10\\nNiu\\tJunliang\\t10\\nSun\\tZihan\\t9\\nMiao\\tJialong\\t9\\nDuan\\tQiaohui\\t9\\nLiu\\tXiangying\\t9\\nLi\\tZhengtong\\t8\\nLiu\\tChang\\t8\\nNi\\tJunxi\\t7\\nJiang\\tJunyu\\t7\\nWu\\tYue\\t7\\nFeng\\tXuanang\\t7\\nZhao\\tYi\\t6\\nZhao\\tXiaonan\\t6\\nLi\\tXiang\\t5\\nChen\\tZhonghan\\t4\\n'\n"
     ]
    }
   ],
   "source": [
    "fin = open(filename, 'r')\n",
    "members = fin.read()\n",
    "fin.close()\n",
    "\n",
    "print('Text representation of the string: \\n', members)\n",
    "\n",
    "print('Raw representation of the string: \\n', repr(members))"
   ]
  },
  {
   "cell_type": "markdown",
   "id": "25bc5dc1-7c13-4268-b388-a55a250f32f5",
   "metadata": {},
   "source": [
    "Opening the text file as a list of lines:"
   ]
  },
  {
   "cell_type": "code",
   "execution_count": 12,
   "id": "2a7ab237-4267-49a4-9d48-1bba2848cd23",
   "metadata": {},
   "outputs": [
    {
     "name": "stdout",
     "output_type": "stream",
     "text": [
      "['Li\\tYijia\\t11\\n', 'Zhang\\tHanyu\\t11\\n', 'Zhang\\tLiuhaoyu\\t11\\n', 'Zhang\\tJiarui\\t11\\n', 'Liu\\tDingyu\\t11\\n', 'Tian\\tYe\\t10\\n', 'Cao\\tShuming\\t10\\n', 'Mengyang\\tMa\\t10\\n', 'Niu\\tJunliang\\t10\\n', 'Sun\\tZihan\\t9\\n', 'Miao\\tJialong\\t9\\n', 'Duan\\tQiaohui\\t9\\n', 'Liu\\tXiangying\\t9\\n', 'Li\\tZhengtong\\t8\\n', 'Liu\\tChang\\t8\\n', 'Ni\\tJunxi\\t7\\n', 'Jiang\\tJunyu\\t7\\n', 'Wu\\tYue\\t7\\n', 'Feng\\tXuanang\\t7\\n', 'Zhao\\tYi\\t6\\n', 'Zhao\\tXiaonan\\t6\\n', 'Li\\tXiang\\t5\\n', 'Chen\\tZhonghan\\t4\\n']\n"
     ]
    }
   ],
   "source": [
    "fin = open(filename, 'r')\n",
    "members = fin.readlines()\n",
    "fin.close()\n",
    "\n",
    "print(members)"
   ]
  },
  {
   "cell_type": "markdown",
   "id": "eb6d9145-beb1-4654-a407-7c19e1df7e34",
   "metadata": {},
   "source": [
    "Cut every lines of the list by '\\t' separator"
   ]
  },
  {
   "cell_type": "code",
   "execution_count": 13,
   "id": "8ec9c565-dc72-4add-8b64-00e46b1114ea",
   "metadata": {},
   "outputs": [
    {
     "name": "stdout",
     "output_type": "stream",
     "text": [
      "['Li', 'Yijia', '11']\n",
      "['Zhang', 'Hanyu', '11']\n",
      "['Zhang', 'Liuhaoyu', '11']\n",
      "['Zhang', 'Jiarui', '11']\n",
      "['Liu', 'Dingyu', '11']\n",
      "['Tian', 'Ye', '10']\n",
      "['Cao', 'Shuming', '10']\n",
      "['Mengyang', 'Ma', '10']\n",
      "['Niu', 'Junliang', '10']\n",
      "['Sun', 'Zihan', '9']\n",
      "['Miao', 'Jialong', '9']\n",
      "['Duan', 'Qiaohui', '9']\n",
      "['Liu', 'Xiangying', '9']\n",
      "['Li', 'Zhengtong', '8']\n",
      "['Liu', 'Chang', '8']\n",
      "['Ni', 'Junxi', '7']\n",
      "['Jiang', 'Junyu', '7']\n",
      "['Wu', 'Yue', '7']\n",
      "['Feng', 'Xuanang', '7']\n",
      "['Zhao', 'Yi', '6']\n",
      "['Zhao', 'Xiaonan', '6']\n",
      "['Li', 'Xiang', '5']\n",
      "['Chen', 'Zhonghan', '4']\n"
     ]
    }
   ],
   "source": [
    "for m in members:\n",
    "    m = m.strip()\n",
    "    lst = m.split(sep='\\t')\n",
    "    print(lst)"
   ]
  },
  {
   "cell_type": "markdown",
   "id": "870a88ac-7fe0-40d1-9427-296343630f38",
   "metadata": {},
   "source": [
    "Now let's rewrite the loop to fill the dictionary: \n",
    "    \n",
    "    put combined names into the keys\n",
    "    put test results into the values"
   ]
  },
  {
   "cell_type": "code",
   "execution_count": 16,
   "id": "951a5bf8-71fc-47e4-aad1-99dfb7d7d904",
   "metadata": {},
   "outputs": [
    {
     "name": "stdout",
     "output_type": "stream",
     "text": [
      "{'Li Yijia': 11, 'Zhang Hanyu': 11, 'Zhang Liuhaoyu': 11, 'Zhang Jiarui': 11, 'Liu Dingyu': 11, 'Tian Ye': 10, 'Cao Shuming': 10, 'Mengyang Ma': 10, 'Niu Junliang': 10, 'Sun Zihan': 9, 'Miao Jialong': 9, 'Duan Qiaohui': 9, 'Liu Xiangying': 9, 'Li Zhengtong': 8, 'Liu Chang': 8, 'Ni Junxi': 7, 'Jiang Junyu': 7, 'Wu Yue': 7, 'Feng Xuanang': 7, 'Zhao Yi': 6, 'Zhao Xiaonan': 6, 'Li Xiang': 5, 'Chen Zhonghan': 4}\n"
     ]
    }
   ],
   "source": [
    "dict_31 = {}\n",
    "\n",
    "for m in members:\n",
    "    m = m.strip()\n",
    "    lst = m.split(sep='\\t')\n",
    "    name = lst[0] + \" \" + lst[1]\n",
    "    result = int(lst[2])\n",
    "\n",
    "    dict_31[name] = result\n",
    "\n",
    "print(dict_31)"
   ]
  },
  {
   "cell_type": "markdown",
   "id": "71da9890-d1dd-4455-9356-6f2c01eb5b77",
   "metadata": {},
   "source": [
    "Now let's improve the dictionary to add new results in the future (change values to lists)"
   ]
  },
  {
   "cell_type": "code",
   "execution_count": 17,
   "id": "1e739e05-7063-4555-ba38-e05915ba9f5a",
   "metadata": {},
   "outputs": [
    {
     "name": "stdout",
     "output_type": "stream",
     "text": [
      "{'Li Yijia': [11], 'Zhang Hanyu': [11], 'Zhang Liuhaoyu': [11], 'Zhang Jiarui': [11], 'Liu Dingyu': [11], 'Tian Ye': [10], 'Cao Shuming': [10], 'Mengyang Ma': [10], 'Niu Junliang': [10], 'Sun Zihan': [9], 'Miao Jialong': [9], 'Duan Qiaohui': [9], 'Liu Xiangying': [9], 'Li Zhengtong': [8], 'Liu Chang': [8], 'Ni Junxi': [7], 'Jiang Junyu': [7], 'Wu Yue': [7], 'Feng Xuanang': [7], 'Zhao Yi': [6], 'Zhao Xiaonan': [6], 'Li Xiang': [5], 'Chen Zhonghan': [4]}\n"
     ]
    }
   ],
   "source": [
    "dict_31 = {}\n",
    "\n",
    "for m in members:\n",
    "    m = m.strip()\n",
    "    lst = m.split(sep='\\t')\n",
    "    name = lst[0] + \" \" + lst[1]\n",
    "    result = [int(lst[2])]\n",
    "\n",
    "    dict_31[name] = result\n",
    "\n",
    "print(dict_31)"
   ]
  },
  {
   "cell_type": "markdown",
   "id": "504cdea0-dab0-4bea-9a90-2692c436031e",
   "metadata": {},
   "source": [
    "Adding a new user with result:"
   ]
  },
  {
   "cell_type": "code",
   "execution_count": 18,
   "id": "a144d078-02a9-4cda-ad58-88ac9057c76e",
   "metadata": {},
   "outputs": [
    {
     "name": "stdout",
     "output_type": "stream",
     "text": [
      "{'Li Yijia': [11], 'Zhang Hanyu': [11], 'Zhang Liuhaoyu': [11], 'Zhang Jiarui': [11], 'Liu Dingyu': [11], 'Tian Ye': [10], 'Cao Shuming': [10], 'Mengyang Ma': [10], 'Niu Junliang': [10], 'Sun Zihan': [9], 'Miao Jialong': [9], 'Duan Qiaohui': [9], 'Liu Xiangying': [9], 'Li Zhengtong': [8], 'Liu Chang': [8], 'Ni Junxi': [7], 'Jiang Junyu': [7], 'Wu Yue': [7], 'Feng Xuanang': [7], 'Zhao Yi': [6], 'Zhao Xiaonan': [6], 'Li Xiang': [5], 'Chen Zhonghan': [4], 'Peter': [5]}\n"
     ]
    }
   ],
   "source": [
    "dict_31['Peter'] = [5]\n",
    "\n",
    "print(dict_31)"
   ]
  },
  {
   "cell_type": "markdown",
   "id": "e030e8d3-1a65-4a69-b007-e69ac461300b",
   "metadata": {},
   "source": [
    "Changing the result of the new user:"
   ]
  },
  {
   "cell_type": "code",
   "execution_count": 20,
   "id": "d81ad4b5-0bcd-4465-ae96-a480c1a14c75",
   "metadata": {},
   "outputs": [
    {
     "name": "stdout",
     "output_type": "stream",
     "text": [
      "{'Li Yijia': [11], 'Zhang Hanyu': [11], 'Zhang Liuhaoyu': [11], 'Zhang Jiarui': [11], 'Liu Dingyu': [11], 'Tian Ye': [10], 'Cao Shuming': [10], 'Mengyang Ma': [10], 'Niu Junliang': [10], 'Sun Zihan': [9], 'Miao Jialong': [9], 'Duan Qiaohui': [9], 'Liu Xiangying': [9], 'Li Zhengtong': [8], 'Liu Chang': [8], 'Ni Junxi': [7], 'Jiang Junyu': [7], 'Wu Yue': [7], 'Feng Xuanang': [7], 'Zhao Yi': [6], 'Zhao Xiaonan': [6], 'Li Xiang': [5], 'Chen Zhonghan': [4], 'Peter': [10]}\n"
     ]
    }
   ],
   "source": [
    "dict_31['Peter'] = [10]\n",
    "\n",
    "print(dict_31)"
   ]
  },
  {
   "cell_type": "markdown",
   "id": "e073a055-77d9-4b0c-9986-6a30c3eaa6ee",
   "metadata": {},
   "source": [
    "Get result from a random user:"
   ]
  },
  {
   "cell_type": "code",
   "execution_count": 21,
   "id": "18ab882d-ed04-4c0c-8d7f-fd3d1a6fe282",
   "metadata": {},
   "outputs": [
    {
     "name": "stdout",
     "output_type": "stream",
     "text": [
      "[7]\n"
     ]
    }
   ],
   "source": [
    "print(dict_31['Jiang Junyu'])"
   ]
  },
  {
   "cell_type": "markdown",
   "id": "c96580cd-f50a-4024-9218-3ea0b34e99c0",
   "metadata": {},
   "source": [
    "Get result from non-existent user:"
   ]
  },
  {
   "cell_type": "code",
   "execution_count": 22,
   "id": "1ae36014-4696-4dfc-9219-13ca4bae3ad5",
   "metadata": {},
   "outputs": [
    {
     "ename": "KeyError",
     "evalue": "'An eagle'",
     "output_type": "error",
     "traceback": [
      "\u001b[1;31m---------------------------------------------------------------------------\u001b[0m",
      "\u001b[1;31mKeyError\u001b[0m                                  Traceback (most recent call last)",
      "Cell \u001b[1;32mIn[22], line 1\u001b[0m\n\u001b[1;32m----> 1\u001b[0m \u001b[38;5;28mprint\u001b[39m(\u001b[43mdict_31\u001b[49m\u001b[43m[\u001b[49m\u001b[38;5;124;43m'\u001b[39;49m\u001b[38;5;124;43mAn eagle\u001b[39;49m\u001b[38;5;124;43m'\u001b[39;49m\u001b[43m]\u001b[49m)\n",
      "\u001b[1;31mKeyError\u001b[0m: 'An eagle'"
     ]
    }
   ],
   "source": [
    "print(dict_31['An eagle'])"
   ]
  },
  {
   "cell_type": "markdown",
   "id": "7b3d28e5-aadd-460e-806f-8d191933eaa3",
   "metadata": {},
   "source": [
    "To prevent the error and crash of the porogram you can check if the user exist. For example:"
   ]
  },
  {
   "cell_type": "code",
   "execution_count": 26,
   "id": "09b1a282-1120-407d-a71d-fa901cde84d4",
   "metadata": {},
   "outputs": [
    {
     "name": "stdout",
     "output_type": "stream",
     "text": [
      "There is no the name 'An eagle' in the dict\n"
     ]
    }
   ],
   "source": [
    "checked_name = 'An eagle'\n",
    "\n",
    "if checked_name in dict_31:\n",
    "    print(dict_31)\n",
    "else:\n",
    "    print(f\"There is no the name '{checked_name}' in the dict\")"
   ]
  },
  {
   "cell_type": "markdown",
   "id": "3ecc3161-eb85-4576-939d-82fd73bd6462",
   "metadata": {},
   "source": [
    "or using get()"
   ]
  },
  {
   "cell_type": "code",
   "execution_count": 28,
   "id": "2aa2c14e-477b-46c6-a108-9fdd57d52e95",
   "metadata": {},
   "outputs": [
    {
     "name": "stdout",
     "output_type": "stream",
     "text": [
      "None\n"
     ]
    }
   ],
   "source": [
    "print(dict_31.get(checked_name))\n",
    "    "
   ]
  },
  {
   "cell_type": "markdown",
   "id": "2844ff8f-5898-40f9-b146-16f4ee43f69e",
   "metadata": {},
   "source": [
    "### Problem\n",
    "\n",
    "List copying"
   ]
  },
  {
   "cell_type": "code",
   "execution_count": null,
   "id": "437e1b0b-f531-48cf-86c7-dd7573de0274",
   "metadata": {},
   "outputs": [],
   "source": [
    "lst1 = [1, 2.2, 'wer']\n",
    "tpl1 = (1, 2.2, 'wer')\n",
    "lst2 = lst1.copy()\n",
    "\n",
    "lst1.append(34)\n",
    "tpl1.append(34)\n",
    "\n",
    "print(id(lst1))\n",
    "print(id(lst2))"
   ]
  },
  {
   "cell_type": "markdown",
   "id": "d5e3397c-befd-4d35-87b5-c2853bf642df",
   "metadata": {},
   "source": [
    "Assignment does not create a copy of a list, you need a copy():"
   ]
  },
  {
   "cell_type": "code",
   "execution_count": 35,
   "id": "7fc76e61-5340-4f30-9910-25f18b704cf6",
   "metadata": {},
   "outputs": [
    {
     "name": "stdout",
     "output_type": "stream",
     "text": [
      "2567987686464\n",
      "2567987686464\n"
     ]
    }
   ],
   "source": [
    "lst1 = [1, 2.2, 'wer']\n",
    "lst2 = lst1\n",
    "\n",
    "print(id(lst1))\n",
    "print(id(lst2))"
   ]
  },
  {
   "cell_type": "code",
   "execution_count": 36,
   "id": "17ae014d-66d1-459d-bb44-4ac62ccf0af9",
   "metadata": {},
   "outputs": [
    {
     "name": "stdout",
     "output_type": "stream",
     "text": [
      "2567986155072\n",
      "2567987904832\n"
     ]
    }
   ],
   "source": [
    "lst1 = [1, 2.2, 'wer']\n",
    "lst2 = lst1.copy()\n",
    "\n",
    "print(id(lst1))\n",
    "print(id(lst2))"
   ]
  },
  {
   "cell_type": "markdown",
   "id": "d21745c8-3475-4400-8c5c-dffb67adb593",
   "metadata": {},
   "source": [
    "That is because lst2 is just a pointer, that points to the same object as lst1.\n",
    "\n",
    "Since tuples are immutable, copying does not create a second tuple, you can just delete the tuple:"
   ]
  },
  {
   "cell_type": "code",
   "execution_count": 1,
   "id": "08dc9430-561f-4149-951b-6969f148cf97",
   "metadata": {},
   "outputs": [
    {
     "name": "stdout",
     "output_type": "stream",
     "text": [
      "1782487773504\n",
      "1782487773504\n"
     ]
    }
   ],
   "source": [
    "tpl1 = (1, 2.2, 'wer')\n",
    "tpl2 = tpl1\n",
    "print(id(tpl1))\n",
    "print(id(tpl2))"
   ]
  },
  {
   "cell_type": "code",
   "execution_count": 6,
   "id": "6b108af7-7bfc-450f-a5d7-b8021fe9bf33",
   "metadata": {},
   "outputs": [
    {
     "name": "stdout",
     "output_type": "stream",
     "text": [
      "1782487991936\n",
      "1782487991936\n",
      "(1, 2.2, 'wer')\n"
     ]
    },
    {
     "ename": "NameError",
     "evalue": "name 'tpl1' is not defined",
     "output_type": "error",
     "traceback": [
      "\u001b[1;31m---------------------------------------------------------------------------\u001b[0m",
      "\u001b[1;31mNameError\u001b[0m                                 Traceback (most recent call last)",
      "Cell \u001b[1;32mIn[6], line 9\u001b[0m\n\u001b[0;32m      6\u001b[0m \u001b[38;5;28;01mdel\u001b[39;00m tpl1\n\u001b[0;32m      8\u001b[0m \u001b[38;5;28mprint\u001b[39m(tpl2)\n\u001b[1;32m----> 9\u001b[0m \u001b[38;5;28mprint\u001b[39m(\u001b[43mtpl1\u001b[49m)\n",
      "\u001b[1;31mNameError\u001b[0m: name 'tpl1' is not defined"
     ]
    }
   ],
   "source": [
    "tpl1 = (1, 2.2, 'wer')\n",
    "tpl2 = tpl1[:]\n",
    "print(id(tpl1))\n",
    "print(id(tpl2))\n",
    "\n",
    "del tpl1\n",
    "\n",
    "print(tpl2)\n",
    "print(tpl1)"
   ]
  },
  {
   "cell_type": "markdown",
   "id": "bac364d2-28f8-4b5a-9023-2297a44d5b9a",
   "metadata": {},
   "source": [
    "## Hashes"
   ]
  },
  {
   "cell_type": "code",
   "execution_count": 19,
   "id": "2c275086-42f3-4510-8603-1e42bb023d64",
   "metadata": {},
   "outputs": [
    {
     "name": "stdout",
     "output_type": "stream",
     "text": [
      "6597992527304604552\n",
      "0x5b90c73ef4ac3b88\n"
     ]
    }
   ],
   "source": [
    "string = 'asdasfdasdfadsfdfdf   sdfsfdsfsdf   adasdasdasda   ahhjnkhonmb jvhdf'\n",
    "\n",
    "print(hash(string))\n",
    "print(hex(hash(string))) "
   ]
  },
  {
   "cell_type": "markdown",
   "id": "9a454b1d-7647-427d-b009-850606ef85f4",
   "metadata": {},
   "source": [
    "Let's change a last character and check the hash:"
   ]
  },
  {
   "cell_type": "code",
   "execution_count": 20,
   "id": "99247645-0a9b-440d-86b3-f907f3c1bb71",
   "metadata": {},
   "outputs": [
    {
     "name": "stdout",
     "output_type": "stream",
     "text": [
      "-7060500311423217140\n",
      "-0x61fbefa006ea6df4\n"
     ]
    }
   ],
   "source": [
    "string = string[:-1] + 'g'\n",
    "\n",
    "print(hash(string))\n",
    "print(hex(hash(string))) "
   ]
  },
  {
   "cell_type": "raw",
   "id": "c39abe6e-945c-42a0-b915-35ddf80331aa",
   "metadata": {},
   "source": [
    "result is completely different."
   ]
  },
  {
   "cell_type": "markdown",
   "id": "1a21fc89-7cc7-4639-b5a7-9f3785002362",
   "metadata": {},
   "source": [
    "### Input data check"
   ]
  },
  {
   "cell_type": "code",
   "execution_count": 59,
   "id": "092a95a2-a122-4d56-8ecd-1a7f7d245fd5",
   "metadata": {},
   "outputs": [
    {
     "name": "stdout",
     "output_type": "stream",
     "text": [
      "11\n",
      "11.4\n",
      "adfg\n"
     ]
    },
    {
     "ename": "TypeError",
     "evalue": "unsupported operand type(s) for +: 'int' and 'str'",
     "output_type": "error",
     "traceback": [
      "\u001b[1;31m----------------------------------------------------------\u001b[0m",
      "\u001b[1;31mTypeError\u001b[0m                Traceback (most recent call last)",
      "Cell \u001b[1;32mIn[59], line 10\u001b[0m\n\u001b[0;32m      8\u001b[0m \u001b[38;5;28mprint\u001b[39m(our_sum(\u001b[38;5;241m5.4\u001b[39m,\u001b[38;5;241m6\u001b[39m))\n\u001b[0;32m      9\u001b[0m \u001b[38;5;28mprint\u001b[39m(our_sum(\u001b[38;5;124m'\u001b[39m\u001b[38;5;124mad\u001b[39m\u001b[38;5;124m'\u001b[39m, \u001b[38;5;124m'\u001b[39m\u001b[38;5;124mfg\u001b[39m\u001b[38;5;124m'\u001b[39m))\n\u001b[1;32m---> 10\u001b[0m \u001b[38;5;28mprint\u001b[39m(\u001b[43mour_sum\u001b[49m\u001b[43m(\u001b[49m\u001b[38;5;241;43m7\u001b[39;49m\u001b[43m,\u001b[49m\u001b[43m \u001b[49m\u001b[38;5;124;43m'\u001b[39;49m\u001b[38;5;124;43mfg\u001b[39;49m\u001b[38;5;124;43m'\u001b[39;49m\u001b[43m)\u001b[49m)\n\u001b[0;32m     11\u001b[0m \u001b[38;5;28mprint\u001b[39m(our_mul(\u001b[38;5;241m7\u001b[39m, \u001b[38;5;124m'\u001b[39m\u001b[38;5;124mfg\u001b[39m\u001b[38;5;124m'\u001b[39m))\n",
      "Cell \u001b[1;32mIn[59], line 2\u001b[0m, in \u001b[0;36mour_sum\u001b[1;34m(a, b)\u001b[0m\n\u001b[0;32m      1\u001b[0m \u001b[38;5;28;01mdef\u001b[39;00m \u001b[38;5;21mour_sum\u001b[39m(a: \u001b[38;5;28mint\u001b[39m, b: \u001b[38;5;28mint\u001b[39m) \u001b[38;5;241m-\u001b[39m\u001b[38;5;241m>\u001b[39m \u001b[38;5;28mint\u001b[39m:    \n\u001b[1;32m----> 2\u001b[0m     \u001b[38;5;28;01mreturn\u001b[39;00m \u001b[43ma\u001b[49m\u001b[38;5;241;43m+\u001b[39;49m\u001b[43mb\u001b[49m\n",
      "\u001b[1;31mTypeError\u001b[0m: unsupported operand type(s) for +: 'int' and 'str'"
     ]
    }
   ],
   "source": [
    "def our_sum(a: int, b: int) -> int:    \n",
    "    return a+b\n",
    "\n",
    "def our_mul(a, b):\n",
    "    return a*b\n",
    "\n",
    "print(our_sum(5,6))\n",
    "print(our_sum(5.4,6))\n",
    "print(our_sum('ad', 'fg'))\n",
    "print(our_sum(7, 'fg'))\n",
    "print(our_mul(7, 'fg'))"
   ]
  },
  {
   "cell_type": "markdown",
   "id": "bf8ca857-babb-4350-b6b8-6c86196e1b75",
   "metadata": {},
   "source": [
    "It is better to check data:"
   ]
  },
  {
   "cell_type": "code",
   "execution_count": 13,
   "id": "86094df6-8ed6-43bd-ba22-b1e2f2779d64",
   "metadata": {},
   "outputs": [
    {
     "name": "stdin",
     "output_type": "stream",
     "text": [
      "Input a first digit 1\n"
     ]
    }
   ],
   "source": [
    "def our_sum(a: int, b: int) -> int:    \n",
    "    return a + b\n",
    "\n",
    "n = input(\"Input a first digit\")\n",
    "if n.isdigit():\n",
    "    n = int(n)\n",
    "else:\n",
    "    print('try again')"
   ]
  },
  {
   "cell_type": "markdown",
   "id": "f4ae0d40-26b8-4838-bf6d-6b677cc1d292",
   "metadata": {},
   "source": [
    "Another way - check the arguments in functions:"
   ]
  },
  {
   "cell_type": "code",
   "execution_count": null,
   "id": "c40046fa-62d8-49a8-b406-60c1ec9a8167",
   "metadata": {},
   "outputs": [],
   "source": [
    "def our_sum(a: int, b: int) -> int:         \n",
    "    if type(a) == int and type(b) == int:\n",
    "    return a + b"
   ]
  },
  {
   "cell_type": "markdown",
   "id": "793c7198-f833-4532-81bd-c46945ad27dc",
   "metadata": {},
   "source": [
    "(how we can use it in the previous problem? How can we proceed both int and float? )"
   ]
  },
  {
   "cell_type": "markdown",
   "id": "35627f62-f847-4e86-a954-4ef317c03398",
   "metadata": {},
   "source": [
    "(try to complete the code above: give the user a chance to enter correct data and ask for the second value)"
   ]
  },
  {
   "cell_type": "markdown",
   "id": "f72729c2-ce26-4d18-8a0d-a2b98aa48be9",
   "metadata": {},
   "source": [
    "## Problem \n",
    "\n",
    "Write a function to calculate Gauss function\n",
    "\n",
    "$f(x)=\\frac{1}{\\sqrt(2\\pi) s} exp \\left[-\\frac{1}{2}\\left( \\frac{x-m}{s} \\right)^2 \\right]$\n",
    "\n",
    "```python\n",
    "from math import sqrt, pi, exp\n",
    "m = 0\n",
    "s = 2\n",
    "x = 1.0\n",
    "```"
   ]
  },
  {
   "cell_type": "code",
   "execution_count": 9,
   "id": "99c6a71b-ea60-42ab-acdb-cea20c79952e",
   "metadata": {},
   "outputs": [
    {
     "name": "stdout",
     "output_type": "stream",
     "text": [
      "3.141592653589793\n",
      "0.00013383022576488537\n",
      "0.3989422804014327\n",
      "[-4, -3, -2, -1, 0, 1, 2, 3, 4, 5, 6]\n",
      "1.48672e-06\n",
      "1.33830e-04\n",
      "4.43185e-03\n",
      "5.39910e-02\n",
      "2.41971e-01\n",
      "3.98942e-01\n",
      "2.41971e-01\n",
      "5.39910e-02\n",
      "4.43185e-03\n",
      "1.33830e-04\n",
      "1.48672e-06\n",
      "[1.4867195147342977e-06, 0.00013383022576488537, 0.0044318484119380075, 0.05399096651318806, 0.24197072451914337, 0.3989422804014327, 0.24197072451914337, 0.05399096651318806, 0.0044318484119380075, 0.00013383022576488537, 1.4867195147342977e-06]\n"
     ]
    }
   ],
   "source": [
    "import math\n",
    "\n",
    "print(math.pi)\n",
    "\n",
    "def gauss(x, m=1, s=1):\n",
    "    first = 1/math.sqrt(2*math.pi)\n",
    "    second = -0.5*((x - m)/s)**2\n",
    "    result = first * math.exp(second)\n",
    "    \n",
    "    return result\n",
    "\n",
    "x = 5\n",
    "print(gauss(x))\n",
    "m = 5\n",
    "s = 3\n",
    "print(gauss(x, m, s))\n",
    "\n",
    "x_range = list(range(-4, 7))\n",
    "print(x_range)\n",
    "\n",
    "y_data = []\n",
    "for x in x_range:\n",
    "    y_data.append(gauss(x))\n",
    "    print(f'{y_data[-1]:.5e}')\n",
    "\n",
    "print(y_data)\n"
   ]
  },
  {
   "cell_type": "code",
   "execution_count": 10,
   "id": "c0c1e4a7-4f6c-4799-9f2a-2af6e8aaefe9",
   "metadata": {},
   "outputs": [
    {
     "data": {
      "image/png": "[encoded data removed]",
      "text/plain": [
       "<Figure size 640x480 with 1 Axes>"
      ]
     },
     "metadata": {},
     "output_type": "display_data"
    }
   ],
   "source": [
    "import matplotlib.pyplot as plt\n",
    "\n",
    "plt.plot(y_data)\n",
    "plt.show()"
   ]
  }
 ],
 "metadata": {
  "kernelspec": {
   "display_name": "Python 3 (ipykernel)",
   "language": "python",
   "name": "python3"
  },
  "language_info": {
   "codemirror_mode": {
    "name": "ipython",
    "version": 3
   },
   "file_extension": ".py",
   "mimetype": "text/x-python",
   "name": "python",
   "nbconvert_exporter": "python",
   "pygments_lexer": "ipython3",
   "version": "3.10.11"
  }
 },
 "nbformat": 4,
 "nbformat_minor": 5
}
